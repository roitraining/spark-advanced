{
 "cells": [
  {
   "cell_type": "markdown",
   "id": "bc41803b",
   "metadata": {},
   "source": [
    "# Apache Spark Streaming Notebook\n",
    "\n",
    "### **1. Overview of Spark Streaming**\n",
    "- Spark Streaming is an extension of the core Spark API for scalable, high-throughput, and fault-tolerant stream processing of live data streams.\n",
    "- Data can be ingested from sources like Kafka, Flume, and HDFS, and can be processed using high-level functions like map, reduce, and join."
   ]
  },
  {
   "cell_type": "code",
   "execution_count": 1,
   "id": "98ac6fb1",
   "metadata": {},
   "outputs": [
    {
     "name": "stderr",
     "output_type": "stream",
     "text": [
      "Setting default log level to \"WARN\".\n",
      "To adjust logging level use sc.setLogLevel(newLevel). For SparkR, use setLogLevel(newLevel).\n",
      "25/01/13 20:26:28 WARN NativeCodeLoader: Unable to load native-hadoop library for your platform... using builtin-java classes where applicable\n",
      "25/01/13 20:26:29 WARN Utils: Service 'SparkUI' could not bind on port 4040. Attempting port 4041.\n",
      "25/01/13 20:26:29 WARN Utils: Service 'SparkUI' could not bind on port 4041. Attempting port 4042.\n",
      "25/01/13 20:26:29 WARN Utils: Service 'SparkUI' could not bind on port 4042. Attempting port 4043.\n",
      "25/01/13 20:26:29 WARN Utils: Service 'SparkUI' could not bind on port 4043. Attempting port 4044.\n",
      "25/01/13 20:26:29 WARN Utils: Service 'SparkUI' could not bind on port 4044. Attempting port 4045.\n",
      "/opt/venv/lib/python3.12/site-packages/pyspark/streaming/context.py:72: FutureWarning: DStream is deprecated as of Spark 3.4.0. Migrate to Structured Streaming.\n",
      "  warnings.warn(\n"
     ]
    }
   ],
   "source": [
    "from pyspark import SparkContext\n",
    "from pyspark.streaming import StreamingContext\n",
    "\n",
    "# Create a local StreamingContext with two threads and batch interval of 1 second\n",
    "sc = SparkContext(\"local[2]\", \"NetworkWordCount\")\n",
    "ssc = StreamingContext(sc, 1)  # Batch interval is 1 second"
   ]
  },
  {
   "cell_type": "markdown",
   "id": "659ce332",
   "metadata": {},
   "source": [
    "### **2. Creating a Streaming Context**\n",
    "- **Batch Interval**: The duration of time Spark batches incoming data for processing."
   ]
  },
  {
   "cell_type": "code",
   "execution_count": 2,
   "id": "89be6fd2",
   "metadata": {},
   "outputs": [],
   "source": [
    "# Create a DStream that connects to hostname:port\n",
    "lines = ssc.socketTextStream(\"localhost\", 9999)\n",
    "\n",
    "# Split each line into words\n",
    "words = lines.flatMap(lambda line: line.split(\" \"))"
   ]
  },
  {
   "cell_type": "markdown",
   "id": "f097fe3b",
   "metadata": {},
   "source": [
    "### **3. Receiving Data Streams**\n",
    "- **DStreams (Discretized Streams)**: The core abstraction representing a continuous stream of data divided into small batches."
   ]
  },
  {
   "cell_type": "code",
   "execution_count": 3,
   "id": "47f1f6d7",
   "metadata": {},
   "outputs": [],
   "source": [
    "# Count each word in each batch\n",
    "wordCounts = words.map(lambda word: (word, 1)).reduceByKey(lambda a, b: a + b)\n",
    "wordCounts.pprint()  # Print the first ten elements of each RDD to the console"
   ]
  },
  {
   "cell_type": "markdown",
   "id": "2b9051fe",
   "metadata": {},
   "source": [
    "### **4. Transformations on DStreams**\n",
    "#### Example: Word Count\n",
    "- **Common Transformations**:\n",
    "  - `map()`, `flatMap()`\n",
    "  - `reduceByKey()`, `groupByKey()`\n",
    "  - `window()`, `countByWindow()` (for time-based transformations)"
   ]
  },
  {
   "cell_type": "code",
   "execution_count": 4,
   "id": "8a4e5dcd",
   "metadata": {},
   "outputs": [],
   "source": [
    "# Window duration is 10 seconds, and sliding interval is 5 seconds\n",
    "windowedWordCounts = words.map(lambda word: (word, 1)).reduceByKeyAndWindow(\n",
    "    lambda x, y: x + y,\n",
    "    lambda x, y: x - y,\n",
    "    10,\n",
    "    5\n",
    ")\n",
    "windowedWordCounts.pprint()"
   ]
  },
  {
   "cell_type": "markdown",
   "id": "b8c6c4cf",
   "metadata": {},
   "source": [
    "### **5. Managing Batch Intervals**\n",
    "- **Guidelines**:\n",
    "  - A smaller batch interval increases processing frequency but requires faster processing.\n",
    "  - Larger batch intervals reduce computation overhead but may increase latency."
   ]
  },
  {
   "cell_type": "code",
   "execution_count": 5,
   "id": "44a2b299",
   "metadata": {},
   "outputs": [],
   "source": [
    "# Save results of transformations to external systems\n",
    "wordCounts.saveAsTextFiles(\"output/wordcount\")"
   ]
  },
  {
   "cell_type": "markdown",
   "id": "c642d7cf",
   "metadata": {},
   "source": [
    "### **6. Output Operations**\n",
    "- Save results of transformations to external systems using operations like `pprint()` or `saveAsTextFiles()`."
   ]
  },
  {
   "cell_type": "code",
   "execution_count": 6,
   "id": "a9f69fef",
   "metadata": {},
   "outputs": [],
   "source": [
    "# Read data from a directory\n",
    "fileStream = ssc.textFileStream(\"hdfs://localhost:9000/input\")\n",
    "fileStream.pprint()"
   ]
  },
  {
   "cell_type": "markdown",
   "id": "5c309e42",
   "metadata": {},
   "source": [
    "### **7. File Streams**\n",
    "#### Example: Reading Data from a Directory"
   ]
  },
  {
   "cell_type": "code",
   "execution_count": 7,
   "id": "52c5a828",
   "metadata": {},
   "outputs": [
    {
     "ename": "ModuleNotFoundError",
     "evalue": "No module named 'pyspark.streaming.kafka'",
     "output_type": "error",
     "traceback": [
      "\u001b[0;31m---------------------------------------------------------------------------\u001b[0m",
      "\u001b[0;31mModuleNotFoundError\u001b[0m                       Traceback (most recent call last)",
      "Cell \u001b[0;32mIn[7], line 2\u001b[0m\n\u001b[1;32m      1\u001b[0m \u001b[38;5;66;03m# Example: Consuming Data from Kafka\u001b[39;00m\n\u001b[0;32m----> 2\u001b[0m \u001b[38;5;28;01mfrom\u001b[39;00m \u001b[38;5;21;01mpyspark\u001b[39;00m\u001b[38;5;21;01m.\u001b[39;00m\u001b[38;5;21;01mstreaming\u001b[39;00m\u001b[38;5;21;01m.\u001b[39;00m\u001b[38;5;21;01mkafka\u001b[39;00m \u001b[38;5;28;01mimport\u001b[39;00m KafkaUtils\n\u001b[1;32m      4\u001b[0m kafkaStream \u001b[38;5;241m=\u001b[39m KafkaUtils\u001b[38;5;241m.\u001b[39mcreateStream(ssc, \u001b[38;5;124m\"\u001b[39m\u001b[38;5;124mzookeeper:2181\u001b[39m\u001b[38;5;124m\"\u001b[39m, \u001b[38;5;124m\"\u001b[39m\u001b[38;5;124mspark-streaming\u001b[39m\u001b[38;5;124m\"\u001b[39m, {\u001b[38;5;124m\"\u001b[39m\u001b[38;5;124mtopic\u001b[39m\u001b[38;5;124m\"\u001b[39m: \u001b[38;5;241m1\u001b[39m})\n\u001b[1;32m      5\u001b[0m lines \u001b[38;5;241m=\u001b[39m kafkaStream\u001b[38;5;241m.\u001b[39mmap(\u001b[38;5;28;01mlambda\u001b[39;00m x: x[\u001b[38;5;241m1\u001b[39m])\n",
      "\u001b[0;31mModuleNotFoundError\u001b[0m: No module named 'pyspark.streaming.kafka'"
     ]
    }
   ],
   "source": [
    "# Example: Consuming Data from Kafka\n",
    "from pyspark.streaming.kafka import KafkaUtils\n",
    "\n",
    "kafkaStream = KafkaUtils.createStream(ssc, \"zookeeper:2181\", \"spark-streaming\", {\"topic\": 1})\n",
    "lines = kafkaStream.map(lambda x: x[1])\n",
    "lines.pprint()"
   ]
  },
  {
   "cell_type": "markdown",
   "id": "3787ce72",
   "metadata": {},
   "source": [
    "### **8. Advanced Streaming Sources**\n",
    "- Apache Kafka\n",
    "- AWS Kinesis\n",
    "- Flume"
   ]
  },
  {
   "cell_type": "code",
   "execution_count": null,
   "id": "60b4a216",
   "metadata": {},
   "outputs": [],
   "source": [
    "# Fault tolerance through checkpointing\n",
    "ssc.checkpoint(\"checkpoint-directory\")"
   ]
  },
  {
   "cell_type": "markdown",
   "id": "d7a86497",
   "metadata": {},
   "source": [
    "### **9. Fault Tolerance**\n",
    "- **Checkpointing**: Save DStream metadata to recover from failures."
   ]
  },
  {
   "cell_type": "code",
   "execution_count": null,
   "id": "7bbd3bdb",
   "metadata": {},
   "outputs": [],
   "source": [
    "# Start the computation\n",
    "ssc.start()\n",
    "\n",
    "# Wait for the computation to terminate\n",
    "ssc.awaitTermination()"
   ]
  },
  {
   "cell_type": "markdown",
   "id": "791129c1",
   "metadata": {},
   "source": [
    "### **10. Starting and Stopping the Streaming Context**"
   ]
  }
 ],
 "metadata": {
  "kernelspec": {
   "display_name": "Python 3 (ipykernel)",
   "language": "python",
   "name": "python3"
  },
  "language_info": {
   "codemirror_mode": {
    "name": "ipython",
    "version": 3
   },
   "file_extension": ".py",
   "mimetype": "text/x-python",
   "name": "python",
   "nbconvert_exporter": "python",
   "pygments_lexer": "ipython3",
   "version": "3.12.3"
  }
 },
 "nbformat": 4,
 "nbformat_minor": 5
}
