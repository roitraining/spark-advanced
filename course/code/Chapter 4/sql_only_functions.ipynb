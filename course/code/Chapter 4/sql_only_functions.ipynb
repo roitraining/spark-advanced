{
 "cells": [
  {
   "cell_type": "markdown",
   "metadata": {},
   "source": [
    "# SQL-Only Operations in Spark SQL\n",
    "\n",
    "This notebook demonstrates SQL-only operations in Spark SQL:\n",
    "1. Complex Joins with Multiple Conditions\n",
    "2. Window Functions\n",
    "3. Subqueries"
   ]
  },
  {
   "cell_type": "code",
   "execution_count": 1,
   "metadata": {},
   "outputs": [
    {
     "name": "stderr",
     "output_type": "stream",
     "text": [
      "Setting default log level to \"WARN\".\n",
      "To adjust logging level use sc.setLogLevel(newLevel). For SparkR, use setLogLevel(newLevel).\n",
      "24/11/02 14:54:46 WARN NativeCodeLoader: Unable to load native-hadoop library for your platform... using builtin-java classes where applicable\n"
     ]
    }
   ],
   "source": [
    "from pyspark.sql import SparkSession\n",
    "from pyspark.sql.window import Window\n",
    "from pyspark.sql.functions import col, rank\n",
    "\n",
    "# Initialize Spark session\n",
    "spark = SparkSession.builder.master(\"local\").appName(\"SQLOnlyFunctions\").getOrCreate()\n",
    "\n",
    "# Create sample data for employees and departments DataFrames\n",
    "employees_data = [\n",
    "    (1, \"Alice\", 10000, \"HR\"),\n",
    "    (2, \"Bob\", 20000, \"Engineering\"),\n",
    "    (3, \"Charlie\", 30000, \"Engineering\"),\n",
    "    (4, \"David\", 25000, \"HR\"),\n",
    "    (5, \"Eve\", 15000, \"Marketing\")\n",
    "]\n",
    "departments_data = [\n",
    "    (1, \"HR\"),\n",
    "    (2, \"Engineering\"),\n",
    "    (3, \"Marketing\")\n",
    "]\n",
    "\n",
    "# Create DataFrames and temporary views\n",
    "employees_df = spark.createDataFrame(employees_data, [\"ID\", \"Name\", \"Salary\", \"Department\"])\n",
    "departments_df = spark.createDataFrame(departments_data, [\"ID\", \"DepartmentName\"])\n",
    "\n",
    "# Register as SQL temporary views for SQL queries\n",
    "employees_df.createOrReplaceTempView(\"employees\")\n",
    "departments_df.createOrReplaceTempView(\"departments\")"
   ]
  },
  {
   "cell_type": "markdown",
   "metadata": {},
   "source": [
    "## 1. Complex Joins with Multiple Conditions\n",
    "\n",
    "In this section, we perform joins with multiple conditions."
   ]
  },
  {
   "cell_type": "code",
   "execution_count": 2,
   "metadata": {},
   "outputs": [
    {
     "name": "stdout",
     "output_type": "stream",
     "text": [
      "+-------+--------------+\n",
      "|   Name|DepartmentName|\n",
      "+-------+--------------+\n",
      "|    Bob|   Engineering|\n",
      "|Charlie|     Marketing|\n",
      "+-------+--------------+\n",
      "\n"
     ]
    }
   ],
   "source": [
    "# Complex join with multiple conditions\n",
    "result = spark.sql(\"\"\"\n",
    "    SELECT a.Name, b.DepartmentName\n",
    "    FROM employees a\n",
    "    JOIN departments b ON a.ID = b.ID AND a.Salary > 15000\n",
    "\"\"\")\n",
    "result.show()"
   ]
  },
  {
   "cell_type": "markdown",
   "metadata": {},
   "source": [
    "## 2. Window Functions\n",
    "\n",
    "Spark SQL supports window functions. Here, we use the `RANK` function to rank employees by salary within each department."
   ]
  },
  {
   "cell_type": "code",
   "execution_count": 3,
   "metadata": {},
   "outputs": [
    {
     "name": "stdout",
     "output_type": "stream",
     "text": [
      "+---+-------+------+-----------+----------+\n",
      "| ID|   Name|Salary| Department|SalaryRank|\n",
      "+---+-------+------+-----------+----------+\n",
      "|  3|Charlie| 30000|Engineering|         1|\n",
      "|  2|    Bob| 20000|Engineering|         2|\n",
      "|  4|  David| 25000|         HR|         1|\n",
      "|  1|  Alice| 10000|         HR|         2|\n",
      "|  5|    Eve| 15000|  Marketing|         1|\n",
      "+---+-------+------+-----------+----------+\n",
      "\n"
     ]
    }
   ],
   "source": [
    "# Define a window specification by department and ordered by salary descending\n",
    "windowSpec = Window.partitionBy(\"Department\").orderBy(col(\"Salary\").desc())\n",
    "\n",
    "# Apply rank function\n",
    "ranked_employees = employees_df.withColumn(\"SalaryRank\", rank().over(windowSpec))\n",
    "ranked_employees.show()"
   ]
  },
  {
   "cell_type": "markdown",
   "metadata": {},
   "source": [
    "## 3. Subqueries\n",
    "\n",
    "Subqueries allow us to filter data based on computed values from another query.\n",
    "Example: Select employees who earn more than the average salary."
   ]
  },
  {
   "cell_type": "code",
   "execution_count": 4,
   "metadata": {},
   "outputs": [
    {
     "name": "stdout",
     "output_type": "stream",
     "text": [
      "+---+-------+------+-----------+\n",
      "| ID|   Name|Salary| Department|\n",
      "+---+-------+------+-----------+\n",
      "|  3|Charlie| 30000|Engineering|\n",
      "|  4|  David| 25000|         HR|\n",
      "+---+-------+------+-----------+\n",
      "\n"
     ]
    }
   ],
   "source": [
    "# Calculate average salary\n",
    "avg_salary = employees_df.selectExpr(\"avg(Salary)\").collect()[0][0]\n",
    "\n",
    "# Filter employees with salary above average salary\n",
    "high_earners = employees_df.filter(employees_df[\"Salary\"] > avg_salary)\n",
    "high_earners.show()"
   ]
  },
  {
   "cell_type": "code",
   "execution_count": 5,
   "metadata": {},
   "outputs": [],
   "source": [
    "# Stop the Spark session after running\n",
    "spark.stop()"
   ]
  }
 ],
 "metadata": {
  "kernelspec": {
   "display_name": "Python 3 (ipykernel)",
   "language": "python",
   "name": "python3"
  },
  "language_info": {
   "codemirror_mode": {
    "name": "ipython",
    "version": 3
   },
   "file_extension": ".py",
   "mimetype": "text/x-python",
   "name": "python",
   "nbconvert_exporter": "python",
   "pygments_lexer": "ipython3",
   "version": "3.10.12"
  }
 },
 "nbformat": 4,
 "nbformat_minor": 4
}
