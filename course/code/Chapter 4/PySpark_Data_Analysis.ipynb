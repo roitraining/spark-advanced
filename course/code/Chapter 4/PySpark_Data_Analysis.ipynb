{
 "cells": [
  {
   "cell_type": "markdown",
   "id": "f2d47084",
   "metadata": {},
   "source": [
    "# Data Analysis with PySpark in Jupyter Notebook"
   ]
  },
  {
   "cell_type": "markdown",
   "id": "90627515",
   "metadata": {},
   "source": [
    "In this lab, you'll learn how to: \n",
    "- Set up a Jupyter Notebook for PySpark.\n",
    "- Load data from various formats (JSON, CSV, Parquet, Avro).\n",
    "- Perform SQL queries and data analysis using PySpark."
   ]
  },
  {
   "cell_type": "markdown",
   "id": "7a31db41",
   "metadata": {},
   "source": [
    "## Step 1: Set Up PySpark in Jupyter Notebook"
   ]
  },
  {
   "cell_type": "code",
   "execution_count": 1,
   "id": "f954b504",
   "metadata": {},
   "outputs": [
    {
     "name": "stderr",
     "output_type": "stream",
     "text": [
      "Setting default log level to \"WARN\".\n",
      "To adjust logging level use sc.setLogLevel(newLevel). For SparkR, use setLogLevel(newLevel).\n",
      "24/11/17 17:02:36 WARN NativeCodeLoader: Unable to load native-hadoop library for your platform... using builtin-java classes where applicable\n",
      "24/11/17 17:02:36 WARN Utils: Service 'SparkUI' could not bind on port 4040. Attempting port 4041.\n"
     ]
    },
    {
     "name": "stdout",
     "output_type": "stream",
     "text": [
      "Spark Version: 3.5.3\n"
     ]
    }
   ],
   "source": [
    "from pyspark.sql import SparkSession\n",
    "\n",
    "# Initialize Spark Session\n",
    "spark = SparkSession.builder \\\n",
    "    .appName(\"DataProcessingLab\") \\\n",
    "    .getOrCreate()\n",
    "\n",
    "# Check Spark version\n",
    "print(f\"Spark Version: {spark.version}\")"
   ]
  },
  {
   "cell_type": "markdown",
   "id": "f7045bbe",
   "metadata": {},
   "source": [
    "## Step 2: Load Data from Different Formats"
   ]
  },
  {
   "cell_type": "markdown",
   "id": "b048ccfa",
   "metadata": {},
   "source": [
    "### 1. Reading JSON Data"
   ]
  },
  {
   "cell_type": "code",
   "execution_count": 2,
   "id": "addc6efc",
   "metadata": {},
   "outputs": [
    {
     "ename": "AnalysisException",
     "evalue": "Since Spark 2.3, the queries from raw JSON/CSV files are disallowed when the\nreferenced columns only include the internal corrupt record column\n(named _corrupt_record by default). For example:\nspark.read.schema(schema).csv(file).filter($\"_corrupt_record\".isNotNull).count()\nand spark.read.schema(schema).csv(file).select(\"_corrupt_record\").show().\nInstead, you can cache or save the parsed results and then send the same query.\nFor example, val df = spark.read.schema(schema).csv(file).cache() and then\ndf.filter($\"_corrupt_record\".isNotNull).count().",
     "output_type": "error",
     "traceback": [
      "\u001b[0;31m---------------------------------------------------------------------------\u001b[0m",
      "\u001b[0;31mAnalysisException\u001b[0m                         Traceback (most recent call last)",
      "Cell \u001b[0;32mIn[2], line 3\u001b[0m\n\u001b[1;32m      1\u001b[0m \u001b[38;5;66;03m# Load JSON data\u001b[39;00m\n\u001b[1;32m      2\u001b[0m json_df \u001b[38;5;241m=\u001b[39m spark\u001b[38;5;241m.\u001b[39mread\u001b[38;5;241m.\u001b[39mjson(\u001b[38;5;124m\"\u001b[39m\u001b[38;5;124m./data/employees.json\u001b[39m\u001b[38;5;124m\"\u001b[39m)\n\u001b[0;32m----> 3\u001b[0m \u001b[43mjson_df\u001b[49m\u001b[38;5;241;43m.\u001b[39;49m\u001b[43mshow\u001b[49m\u001b[43m(\u001b[49m\u001b[43m)\u001b[49m\n\u001b[1;32m      4\u001b[0m json_df\u001b[38;5;241m.\u001b[39mprintSchema()\n",
      "File \u001b[0;32m/usr/local/lib/python3.10/dist-packages/pyspark/sql/dataframe.py:947\u001b[0m, in \u001b[0;36mDataFrame.show\u001b[0;34m(self, n, truncate, vertical)\u001b[0m\n\u001b[1;32m    887\u001b[0m \u001b[38;5;28;01mdef\u001b[39;00m \u001b[38;5;21mshow\u001b[39m(\u001b[38;5;28mself\u001b[39m, n: \u001b[38;5;28mint\u001b[39m \u001b[38;5;241m=\u001b[39m \u001b[38;5;241m20\u001b[39m, truncate: Union[\u001b[38;5;28mbool\u001b[39m, \u001b[38;5;28mint\u001b[39m] \u001b[38;5;241m=\u001b[39m \u001b[38;5;28;01mTrue\u001b[39;00m, vertical: \u001b[38;5;28mbool\u001b[39m \u001b[38;5;241m=\u001b[39m \u001b[38;5;28;01mFalse\u001b[39;00m) \u001b[38;5;241m-\u001b[39m\u001b[38;5;241m>\u001b[39m \u001b[38;5;28;01mNone\u001b[39;00m:\n\u001b[1;32m    888\u001b[0m \u001b[38;5;250m    \u001b[39m\u001b[38;5;124;03m\"\"\"Prints the first ``n`` rows to the console.\u001b[39;00m\n\u001b[1;32m    889\u001b[0m \n\u001b[1;32m    890\u001b[0m \u001b[38;5;124;03m    .. versionadded:: 1.3.0\u001b[39;00m\n\u001b[0;32m   (...)\u001b[0m\n\u001b[1;32m    945\u001b[0m \u001b[38;5;124;03m    name | Bob\u001b[39;00m\n\u001b[1;32m    946\u001b[0m \u001b[38;5;124;03m    \"\"\"\u001b[39;00m\n\u001b[0;32m--> 947\u001b[0m     \u001b[38;5;28mprint\u001b[39m(\u001b[38;5;28;43mself\u001b[39;49m\u001b[38;5;241;43m.\u001b[39;49m\u001b[43m_show_string\u001b[49m\u001b[43m(\u001b[49m\u001b[43mn\u001b[49m\u001b[43m,\u001b[49m\u001b[43m \u001b[49m\u001b[43mtruncate\u001b[49m\u001b[43m,\u001b[49m\u001b[43m \u001b[49m\u001b[43mvertical\u001b[49m\u001b[43m)\u001b[49m)\n",
      "File \u001b[0;32m/usr/local/lib/python3.10/dist-packages/pyspark/sql/dataframe.py:965\u001b[0m, in \u001b[0;36mDataFrame._show_string\u001b[0;34m(self, n, truncate, vertical)\u001b[0m\n\u001b[1;32m    959\u001b[0m     \u001b[38;5;28;01mraise\u001b[39;00m PySparkTypeError(\n\u001b[1;32m    960\u001b[0m         error_class\u001b[38;5;241m=\u001b[39m\u001b[38;5;124m\"\u001b[39m\u001b[38;5;124mNOT_BOOL\u001b[39m\u001b[38;5;124m\"\u001b[39m,\n\u001b[1;32m    961\u001b[0m         message_parameters\u001b[38;5;241m=\u001b[39m{\u001b[38;5;124m\"\u001b[39m\u001b[38;5;124marg_name\u001b[39m\u001b[38;5;124m\"\u001b[39m: \u001b[38;5;124m\"\u001b[39m\u001b[38;5;124mvertical\u001b[39m\u001b[38;5;124m\"\u001b[39m, \u001b[38;5;124m\"\u001b[39m\u001b[38;5;124marg_type\u001b[39m\u001b[38;5;124m\"\u001b[39m: \u001b[38;5;28mtype\u001b[39m(vertical)\u001b[38;5;241m.\u001b[39m\u001b[38;5;18m__name__\u001b[39m},\n\u001b[1;32m    962\u001b[0m     )\n\u001b[1;32m    964\u001b[0m \u001b[38;5;28;01mif\u001b[39;00m \u001b[38;5;28misinstance\u001b[39m(truncate, \u001b[38;5;28mbool\u001b[39m) \u001b[38;5;129;01mand\u001b[39;00m truncate:\n\u001b[0;32m--> 965\u001b[0m     \u001b[38;5;28;01mreturn\u001b[39;00m \u001b[38;5;28;43mself\u001b[39;49m\u001b[38;5;241;43m.\u001b[39;49m\u001b[43m_jdf\u001b[49m\u001b[38;5;241;43m.\u001b[39;49m\u001b[43mshowString\u001b[49m\u001b[43m(\u001b[49m\u001b[43mn\u001b[49m\u001b[43m,\u001b[49m\u001b[43m \u001b[49m\u001b[38;5;241;43m20\u001b[39;49m\u001b[43m,\u001b[49m\u001b[43m \u001b[49m\u001b[43mvertical\u001b[49m\u001b[43m)\u001b[49m\n\u001b[1;32m    966\u001b[0m \u001b[38;5;28;01melse\u001b[39;00m:\n\u001b[1;32m    967\u001b[0m     \u001b[38;5;28;01mtry\u001b[39;00m:\n",
      "File \u001b[0;32m/usr/local/lib/python3.10/dist-packages/py4j/java_gateway.py:1322\u001b[0m, in \u001b[0;36mJavaMember.__call__\u001b[0;34m(self, *args)\u001b[0m\n\u001b[1;32m   1316\u001b[0m command \u001b[38;5;241m=\u001b[39m proto\u001b[38;5;241m.\u001b[39mCALL_COMMAND_NAME \u001b[38;5;241m+\u001b[39m\\\n\u001b[1;32m   1317\u001b[0m     \u001b[38;5;28mself\u001b[39m\u001b[38;5;241m.\u001b[39mcommand_header \u001b[38;5;241m+\u001b[39m\\\n\u001b[1;32m   1318\u001b[0m     args_command \u001b[38;5;241m+\u001b[39m\\\n\u001b[1;32m   1319\u001b[0m     proto\u001b[38;5;241m.\u001b[39mEND_COMMAND_PART\n\u001b[1;32m   1321\u001b[0m answer \u001b[38;5;241m=\u001b[39m \u001b[38;5;28mself\u001b[39m\u001b[38;5;241m.\u001b[39mgateway_client\u001b[38;5;241m.\u001b[39msend_command(command)\n\u001b[0;32m-> 1322\u001b[0m return_value \u001b[38;5;241m=\u001b[39m \u001b[43mget_return_value\u001b[49m\u001b[43m(\u001b[49m\n\u001b[1;32m   1323\u001b[0m \u001b[43m    \u001b[49m\u001b[43manswer\u001b[49m\u001b[43m,\u001b[49m\u001b[43m \u001b[49m\u001b[38;5;28;43mself\u001b[39;49m\u001b[38;5;241;43m.\u001b[39;49m\u001b[43mgateway_client\u001b[49m\u001b[43m,\u001b[49m\u001b[43m \u001b[49m\u001b[38;5;28;43mself\u001b[39;49m\u001b[38;5;241;43m.\u001b[39;49m\u001b[43mtarget_id\u001b[49m\u001b[43m,\u001b[49m\u001b[43m \u001b[49m\u001b[38;5;28;43mself\u001b[39;49m\u001b[38;5;241;43m.\u001b[39;49m\u001b[43mname\u001b[49m\u001b[43m)\u001b[49m\n\u001b[1;32m   1325\u001b[0m \u001b[38;5;28;01mfor\u001b[39;00m temp_arg \u001b[38;5;129;01min\u001b[39;00m temp_args:\n\u001b[1;32m   1326\u001b[0m     \u001b[38;5;28;01mif\u001b[39;00m \u001b[38;5;28mhasattr\u001b[39m(temp_arg, \u001b[38;5;124m\"\u001b[39m\u001b[38;5;124m_detach\u001b[39m\u001b[38;5;124m\"\u001b[39m):\n",
      "File \u001b[0;32m/usr/local/lib/python3.10/dist-packages/pyspark/errors/exceptions/captured.py:185\u001b[0m, in \u001b[0;36mcapture_sql_exception.<locals>.deco\u001b[0;34m(*a, **kw)\u001b[0m\n\u001b[1;32m    181\u001b[0m converted \u001b[38;5;241m=\u001b[39m convert_exception(e\u001b[38;5;241m.\u001b[39mjava_exception)\n\u001b[1;32m    182\u001b[0m \u001b[38;5;28;01mif\u001b[39;00m \u001b[38;5;129;01mnot\u001b[39;00m \u001b[38;5;28misinstance\u001b[39m(converted, UnknownException):\n\u001b[1;32m    183\u001b[0m     \u001b[38;5;66;03m# Hide where the exception came from that shows a non-Pythonic\u001b[39;00m\n\u001b[1;32m    184\u001b[0m     \u001b[38;5;66;03m# JVM exception message.\u001b[39;00m\n\u001b[0;32m--> 185\u001b[0m     \u001b[38;5;28;01mraise\u001b[39;00m converted \u001b[38;5;28;01mfrom\u001b[39;00m \u001b[38;5;28;01mNone\u001b[39;00m\n\u001b[1;32m    186\u001b[0m \u001b[38;5;28;01melse\u001b[39;00m:\n\u001b[1;32m    187\u001b[0m     \u001b[38;5;28;01mraise\u001b[39;00m\n",
      "\u001b[0;31mAnalysisException\u001b[0m: Since Spark 2.3, the queries from raw JSON/CSV files are disallowed when the\nreferenced columns only include the internal corrupt record column\n(named _corrupt_record by default). For example:\nspark.read.schema(schema).csv(file).filter($\"_corrupt_record\".isNotNull).count()\nand spark.read.schema(schema).csv(file).select(\"_corrupt_record\").show().\nInstead, you can cache or save the parsed results and then send the same query.\nFor example, val df = spark.read.schema(schema).csv(file).cache() and then\ndf.filter($\"_corrupt_record\".isNotNull).count()."
     ]
    }
   ],
   "source": [
    "# Load JSON data\n",
    "json_df = spark.read.json(\"./data/employees.json\")\n",
    "json_df.show()\n",
    "json_df.printSchema()"
   ]
  },
  {
   "cell_type": "markdown",
   "id": "44863411",
   "metadata": {},
   "source": [
    "### 2. Reading CSV Data"
   ]
  },
  {
   "cell_type": "code",
   "execution_count": null,
   "id": "0d297da1",
   "metadata": {},
   "outputs": [],
   "source": [
    "# Load CSV data\n",
    "csv_df = spark.read.csv(\"employees.csv\", header=True, inferSchema=True)\n",
    "csv_df.show()\n",
    "csv_df.printSchema()"
   ]
  },
  {
   "cell_type": "markdown",
   "id": "945b6d8a",
   "metadata": {},
   "source": [
    "### 3. Reading Parquet Data"
   ]
  },
  {
   "cell_type": "code",
   "execution_count": null,
   "id": "bd6f46ed",
   "metadata": {},
   "outputs": [],
   "source": [
    "# Save CSV DataFrame as Parquet and read it back\n",
    "csv_df.write.mode(\"overwrite\").parquet(\"employees.parquet\")\n",
    "parquet_df = spark.read.parquet(\"employees.parquet\")\n",
    "parquet_df.show()\n",
    "parquet_df.printSchema()"
   ]
  },
  {
   "cell_type": "markdown",
   "id": "ba071a16",
   "metadata": {},
   "source": [
    "### 4. Reading Avro Data"
   ]
  },
  {
   "cell_type": "code",
   "execution_count": null,
   "id": "8c99a799",
   "metadata": {},
   "outputs": [],
   "source": [
    "# Save DataFrame as Avro and read it (requires spark-avro package)\n",
    "parquet_df.write.mode(\"overwrite\").format(\"avro\").save(\"employees.avro\")\n",
    "avro_df = spark.read.format(\"avro\").load(\"employees.avro\")\n",
    "avro_df.show()\n",
    "avro_df.printSchema()"
   ]
  },
  {
   "cell_type": "markdown",
   "id": "5014acc1",
   "metadata": {},
   "source": [
    "## Step 3: Create Temporary Views and Run SQL Queries"
   ]
  },
  {
   "cell_type": "code",
   "execution_count": null,
   "id": "2c26c0e9",
   "metadata": {},
   "outputs": [],
   "source": [
    "# Create temporary views\n",
    "json_df.createOrReplaceTempView(\"employees_json\")\n",
    "csv_df.createOrReplaceTempView(\"employees_csv\")\n",
    "parquet_df.createOrReplaceTempView(\"employees_parquet\")\n",
    "\n",
    "# Run SQL query\n",
    "result = spark.sql(\"SELECT name, department, salary FROM employees_json WHERE salary > 55000\")\n",
    "result.show()"
   ]
  },
  {
   "cell_type": "markdown",
   "id": "6ce1fa17",
   "metadata": {},
   "source": [
    "## Step 4: Perform Data Analysis Using DataFrame API"
   ]
  },
  {
   "cell_type": "code",
   "execution_count": null,
   "id": "b06b060a",
   "metadata": {},
   "outputs": [],
   "source": [
    "# Filter employees who joined after 2021\n",
    "recent_employees = json_df.filter(json_df.join_date > \"2021-01-01\")\n",
    "recent_employees.show()"
   ]
  },
  {
   "cell_type": "code",
   "execution_count": null,
   "id": "0fca3c13",
   "metadata": {},
   "outputs": [],
   "source": [
    "# Calculate average salary by department\n",
    "avg_salary = csv_df.groupBy(\"department\").avg(\"salary\")\n",
    "avg_salary.show()"
   ]
  },
  {
   "cell_type": "code",
   "execution_count": null,
   "id": "4696a780",
   "metadata": {},
   "outputs": [],
   "source": [
    "# Sort employees by salary in descending order\n",
    "sorted_employees = parquet_df.orderBy(parquet_df.salary.desc())\n",
    "sorted_employees.show()"
   ]
  },
  {
   "cell_type": "markdown",
   "id": "e50c4824",
   "metadata": {},
   "source": [
    "## Step 5: Save Results"
   ]
  },
  {
   "cell_type": "code",
   "execution_count": null,
   "id": "a53c2784",
   "metadata": {},
   "outputs": [],
   "source": [
    "# Save as CSV\n",
    "result.write.mode(\"overwrite\").csv(\"filtered_employees.csv\")\n",
    "\n",
    "# Save as JSON\n",
    "avg_salary.write.mode(\"overwrite\").json(\"average_salary.json\")\n",
    "\n",
    "# Save as Parquet\n",
    "avg_salary.write.mode(\"overwrite\").parquet(\"average_salary.parquet\")"
   ]
  },
  {
   "cell_type": "markdown",
   "id": "83dd5ad5",
   "metadata": {},
   "source": [
    "### Lab Summary\n",
    "In this lab, you've learned how to:\n",
    "- Set up PySpark in Jupyter Notebook.\n",
    "- Read data from different file formats.\n",
    "- Perform SQL queries and DataFrame operations.\n",
    "- Save results in different formats."
   ]
  }
 ],
 "metadata": {
  "kernelspec": {
   "display_name": "Python 3 (ipykernel)",
   "language": "python",
   "name": "python3"
  },
  "language_info": {
   "codemirror_mode": {
    "name": "ipython",
    "version": 3
   },
   "file_extension": ".py",
   "mimetype": "text/x-python",
   "name": "python",
   "nbconvert_exporter": "python",
   "pygments_lexer": "ipython3",
   "version": "3.10.12"
  }
 },
 "nbformat": 4,
 "nbformat_minor": 5
}
