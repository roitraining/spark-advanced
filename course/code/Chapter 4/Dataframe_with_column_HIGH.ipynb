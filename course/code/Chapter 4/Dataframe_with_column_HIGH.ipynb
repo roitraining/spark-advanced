{
 "cells": [
  {
   "cell_type": "markdown",
   "metadata": {},
   "source": [
    "# Spark DataFrame Column Manipulation with `withColumn`\n",
    "\n",
    "In this notebook, we'll cover how to use `withColumn` in Spark to add, modify, and transform columns in a DataFrame. We'll also explore related functions like `withColumnRenamed` and `drop` for working with columns efficiently."
   ]
  },
  {
   "cell_type": "markdown",
   "metadata": {},
   "source": [
    "## Step 1: Initialize SparkSession\n",
    "\n",
    "The first step is to create a SparkSession, which is the entry point for working with Spark DataFrames."
   ]
  },
  {
   "cell_type": "code",
   "execution_count": 1,
   "metadata": {},
   "outputs": [
    {
     "name": "stderr",
     "output_type": "stream",
     "text": [
      "Setting default log level to \"WARN\".\n",
      "To adjust logging level use sc.setLogLevel(newLevel). For SparkR, use setLogLevel(newLevel).\n",
      "24/11/02 14:27:24 WARN NativeCodeLoader: Unable to load native-hadoop library for your platform... using builtin-java classes where applicable\n",
      "24/11/02 14:27:24 WARN Utils: Service 'SparkUI' could not bind on port 4040. Attempting port 4041.\n",
      "24/11/02 14:27:24 WARN Utils: Service 'SparkUI' could not bind on port 4041. Attempting port 4042.\n",
      "24/11/02 14:27:24 WARN Utils: Service 'SparkUI' could not bind on port 4042. Attempting port 4043.\n",
      "24/11/02 14:27:24 WARN Utils: Service 'SparkUI' could not bind on port 4043. Attempting port 4044.\n",
      "24/11/02 14:27:24 WARN Utils: Service 'SparkUI' could not bind on port 4044. Attempting port 4045.\n"
     ]
    }
   ],
   "source": [
    "from pyspark.sql import SparkSession\n",
    "from pyspark.sql.functions import col, lit, expr\n",
    "\n",
    "# Initialize Spark Session\n",
    "spark = SparkSession.builder.appName(\"withColumn Tutorial\").getOrCreate()"
   ]
  },
  {
   "cell_type": "markdown",
   "metadata": {},
   "source": [
    "## Step 2: Create a Sample DataFrame\n",
    "\n",
    "We'll create a sample DataFrame to demonstrate various `withColumn` operations."
   ]
  },
  {
   "cell_type": "code",
   "execution_count": 2,
   "metadata": {},
   "outputs": [
    {
     "name": "stdout",
     "output_type": "stream",
     "text": [
      "+---+-----+---+------+\n",
      "| ID| Name|Age|Salary|\n",
      "+---+-----+---+------+\n",
      "|  1|Alice| 29| 50000|\n",
      "|  2|  Bob| 35| 60000|\n",
      "|  3|Cathy| 30| 55000|\n",
      "|  4|David| 40| 65000|\n",
      "|  5|  Eva| 23| 45000|\n",
      "+---+-----+---+------+\n",
      "\n"
     ]
    }
   ],
   "source": [
    "data = [\n",
    "    (1, \"Alice\", 29, 50000),\n",
    "    (2, \"Bob\", 35, 60000),\n",
    "    (3, \"Cathy\", 30, 55000),\n",
    "    (4, \"David\", 40, 65000),\n",
    "    (5, \"Eva\", 23, 45000)\n",
    "]\n",
    "columns = [\"ID\", \"Name\", \"Age\", \"Salary\"]\n",
    "\n",
    "# Create DataFrame\n",
    "df = spark.createDataFrame(data, columns)\n",
    "df.show()"
   ]
  },
  {
   "cell_type": "markdown",
   "metadata": {},
   "source": [
    "## Step 3: Adding New Columns with `withColumn`\n",
    "\n",
    "To add a new column, use `withColumn` with a literal value or a derived value from other columns. Here, we'll add a column for `Bonus` with a fixed value, and another column for `Salary_increase` by calculating 10% of the salary."
   ]
  },
  {
   "cell_type": "code",
   "execution_count": 3,
   "metadata": {},
   "outputs": [
    {
     "name": "stdout",
     "output_type": "stream",
     "text": [
      "+---+-----+---+------+-----+---------------+\n",
      "| ID| Name|Age|Salary|Bonus|Salary_increase|\n",
      "+---+-----+---+------+-----+---------------+\n",
      "|  1|Alice| 29| 50000| 5000|         5000.0|\n",
      "|  2|  Bob| 35| 60000| 5000|         6000.0|\n",
      "|  3|Cathy| 30| 55000| 5000|         5500.0|\n",
      "|  4|David| 40| 65000| 5000|         6500.0|\n",
      "|  5|  Eva| 23| 45000| 5000|         4500.0|\n",
      "+---+-----+---+------+-----+---------------+\n",
      "\n"
     ]
    }
   ],
   "source": [
    "# Add a new column with a constant value\n",
    "df_with_bonus = df.withColumn(\"Bonus\", lit(5000))\n",
    "\n",
    "# Add a new column with calculated values\n",
    "df_with_salary_increase = df_with_bonus.withColumn(\"Salary_increase\", col(\"Salary\") * 0.1)\n",
    "df_with_salary_increase.show()"
   ]
  },
  {
   "cell_type": "markdown",
   "metadata": {},
   "source": [
    "## Step 4: Modifying Existing Columns\n",
    "\n",
    "We can modify existing columns by overwriting them with `withColumn`. In this example, we’ll adjust the `Salary` column by adding the `Bonus` to it."
   ]
  },
  {
   "cell_type": "code",
   "execution_count": 4,
   "metadata": {},
   "outputs": [
    {
     "name": "stdout",
     "output_type": "stream",
     "text": [
      "+---+-----+---+------+-----+---------------+\n",
      "| ID| Name|Age|Salary|Bonus|Salary_increase|\n",
      "+---+-----+---+------+-----+---------------+\n",
      "|  1|Alice| 29| 55000| 5000|         5000.0|\n",
      "|  2|  Bob| 35| 65000| 5000|         6000.0|\n",
      "|  3|Cathy| 30| 60000| 5000|         5500.0|\n",
      "|  4|David| 40| 70000| 5000|         6500.0|\n",
      "|  5|  Eva| 23| 50000| 5000|         4500.0|\n",
      "+---+-----+---+------+-----+---------------+\n",
      "\n"
     ]
    }
   ],
   "source": [
    "# Update the Salary column by adding Bonus\n",
    "df_adjusted_salary = df_with_salary_increase.withColumn(\"Salary\", col(\"Salary\") + col(\"Bonus\"))\n",
    "df_adjusted_salary.show()"
   ]
  },
  {
   "cell_type": "markdown",
   "metadata": {},
   "source": [
    "## Step 5: Renaming Columns with `withColumnRenamed`\n",
    "\n",
    "`withColumnRenamed` is used to rename a column in a DataFrame. Let's rename the `Age` column to `Employee_Age`."
   ]
  },
  {
   "cell_type": "code",
   "execution_count": 5,
   "metadata": {},
   "outputs": [
    {
     "name": "stdout",
     "output_type": "stream",
     "text": [
      "+---+-----+------------+------+-----+---------------+\n",
      "| ID| Name|Employee_Age|Salary|Bonus|Salary_increase|\n",
      "+---+-----+------------+------+-----+---------------+\n",
      "|  1|Alice|          29| 55000| 5000|         5000.0|\n",
      "|  2|  Bob|          35| 65000| 5000|         6000.0|\n",
      "|  3|Cathy|          30| 60000| 5000|         5500.0|\n",
      "|  4|David|          40| 70000| 5000|         6500.0|\n",
      "|  5|  Eva|          23| 50000| 5000|         4500.0|\n",
      "+---+-----+------------+------+-----+---------------+\n",
      "\n"
     ]
    }
   ],
   "source": [
    "# Rename the Age column\n",
    "df_renamed = df_adjusted_salary.withColumnRenamed(\"Age\", \"Employee_Age\")\n",
    "df_renamed.show()"
   ]
  },
  {
   "cell_type": "markdown",
   "metadata": {},
   "source": [
    "## Step 6: Dropping Columns with `drop`\n",
    "\n",
    "We can remove columns from a DataFrame using the `drop` method. Here, we'll drop the `Bonus` column from our DataFrame."
   ]
  },
  {
   "cell_type": "code",
   "execution_count": 6,
   "metadata": {},
   "outputs": [
    {
     "name": "stdout",
     "output_type": "stream",
     "text": [
      "+---+-----+------------+------+---------------+\n",
      "| ID| Name|Employee_Age|Salary|Salary_increase|\n",
      "+---+-----+------------+------+---------------+\n",
      "|  1|Alice|          29| 55000|         5000.0|\n",
      "|  2|  Bob|          35| 65000|         6000.0|\n",
      "|  3|Cathy|          30| 60000|         5500.0|\n",
      "|  4|David|          40| 70000|         6500.0|\n",
      "|  5|  Eva|          23| 50000|         4500.0|\n",
      "+---+-----+------------+------+---------------+\n",
      "\n"
     ]
    }
   ],
   "source": [
    "# Drop the Bonus column\n",
    "df_dropped = df_renamed.drop(\"Bonus\")\n",
    "df_dropped.show()"
   ]
  },
  {
   "cell_type": "markdown",
   "metadata": {},
   "source": [
    "## Step 7: Using Expressions with `withColumn`\n",
    "\n",
    "We can use `expr` to perform complex calculations or transformations within `withColumn`. Let's calculate a 15% tax on the adjusted salary and add it as a new column called `Tax`."
   ]
  },
  {
   "cell_type": "code",
   "execution_count": 7,
   "metadata": {},
   "outputs": [
    {
     "name": "stdout",
     "output_type": "stream",
     "text": [
      "+---+-----+------------+------+---------------+--------+\n",
      "| ID| Name|Employee_Age|Salary|Salary_increase|     Tax|\n",
      "+---+-----+------------+------+---------------+--------+\n",
      "|  1|Alice|          29| 55000|         5000.0| 8250.00|\n",
      "|  2|  Bob|          35| 65000|         6000.0| 9750.00|\n",
      "|  3|Cathy|          30| 60000|         5500.0| 9000.00|\n",
      "|  4|David|          40| 70000|         6500.0|10500.00|\n",
      "|  5|  Eva|          23| 50000|         4500.0| 7500.00|\n",
      "+---+-----+------------+------+---------------+--------+\n",
      "\n"
     ]
    }
   ],
   "source": [
    "# Calculate tax with expr\n",
    "df_with_tax = df_dropped.withColumn(\"Tax\", expr(\"Salary * 0.15\"))\n",
    "df_with_tax.show()"
   ]
  },
  {
   "cell_type": "markdown",
   "metadata": {},
   "source": [
    "## TODO 1: Add a Column for Net Salary\n",
    "\n",
    "Using the `withColumn` function, add a new column called `Net_Salary` which is calculated by subtracting `Tax` from `Salary`.\n",
    "\n",
    "### Solution"
   ]
  },
  {
   "cell_type": "code",
   "execution_count": 8,
   "metadata": {},
   "outputs": [
    {
     "name": "stdout",
     "output_type": "stream",
     "text": [
      "+---+-----+------------+------+---------------+--------+----------+\n",
      "| ID| Name|Employee_Age|Salary|Salary_increase|     Tax|Net_Salary|\n",
      "+---+-----+------------+------+---------------+--------+----------+\n",
      "|  1|Alice|          29| 55000|         5000.0| 8250.00|  46750.00|\n",
      "|  2|  Bob|          35| 65000|         6000.0| 9750.00|  55250.00|\n",
      "|  3|Cathy|          30| 60000|         5500.0| 9000.00|  51000.00|\n",
      "|  4|David|          40| 70000|         6500.0|10500.00|  59500.00|\n",
      "|  5|  Eva|          23| 50000|         4500.0| 7500.00|  42500.00|\n",
      "+---+-----+------------+------+---------------+--------+----------+\n",
      "\n"
     ]
    }
   ],
   "source": [
    "# Solution: Calculate Net Salary\n",
    "df_net_salary = df_with_tax.withColumn(\"Net_Salary\", col(\"Salary\") - col(\"Tax\"))\n",
    "df_net_salary.show()"
   ]
  },
  {
   "cell_type": "markdown",
   "metadata": {},
   "source": [
    "## TODO 2: Rename `Employee_Age` Back to `Age`\n",
    "\n",
    "Use `withColumnRenamed` to rename the `Employee_Age` column back to `Age`.\n",
    "\n",
    "### Solution"
   ]
  },
  {
   "cell_type": "code",
   "execution_count": 9,
   "metadata": {},
   "outputs": [
    {
     "name": "stdout",
     "output_type": "stream",
     "text": [
      "+---+-----+---+------+---------------+--------+----------+\n",
      "| ID| Name|Age|Salary|Salary_increase|     Tax|Net_Salary|\n",
      "+---+-----+---+------+---------------+--------+----------+\n",
      "|  1|Alice| 29| 55000|         5000.0| 8250.00|  46750.00|\n",
      "|  2|  Bob| 35| 65000|         6000.0| 9750.00|  55250.00|\n",
      "|  3|Cathy| 30| 60000|         5500.0| 9000.00|  51000.00|\n",
      "|  4|David| 40| 70000|         6500.0|10500.00|  59500.00|\n",
      "|  5|  Eva| 23| 50000|         4500.0| 7500.00|  42500.00|\n",
      "+---+-----+---+------+---------------+--------+----------+\n",
      "\n"
     ]
    }
   ],
   "source": [
    "# Solution: Rename Employee_Age back to Age\n",
    "df_final = df_net_salary.withColumnRenamed(\"Employee_Age\", \"Age\")\n",
    "df_final.show()"
   ]
  },
  {
   "cell_type": "markdown",
   "metadata": {},
   "source": [
    "## TODO 3: Add a Column to Calculate Years Until Retirement\n",
    "\n",
    "Assume retirement age is 65. Create a new column `Years_Until_Retirement` that calculates the number of years left until retirement based on the `Age` column.\n",
    "\n",
    "### Solution"
   ]
  },
  {
   "cell_type": "code",
   "execution_count": 10,
   "metadata": {},
   "outputs": [
    {
     "name": "stdout",
     "output_type": "stream",
     "text": [
      "+---+-----+---+------+---------------+--------+----------+----------------------+\n",
      "| ID| Name|Age|Salary|Salary_increase|     Tax|Net_Salary|Years_Until_Retirement|\n",
      "+---+-----+---+------+---------------+--------+----------+----------------------+\n",
      "|  1|Alice| 29| 55000|         5000.0| 8250.00|  46750.00|                    36|\n",
      "|  2|  Bob| 35| 65000|         6000.0| 9750.00|  55250.00|                    30|\n",
      "|  3|Cathy| 30| 60000|         5500.0| 9000.00|  51000.00|                    35|\n",
      "|  4|David| 40| 70000|         6500.0|10500.00|  59500.00|                    25|\n",
      "|  5|  Eva| 23| 50000|         4500.0| 7500.00|  42500.00|                    42|\n",
      "+---+-----+---+------+---------------+--------+----------+----------------------+\n",
      "\n"
     ]
    }
   ],
   "source": [
    "# Solution: Calculate years until retirement\n",
    "df_retirement = df_final.withColumn(\"Years_Until_Retirement\", expr(\"65 - Age\"))\n",
    "df_retirement.show()"
   ]
  },
  {
   "cell_type": "markdown",
   "metadata": {},
   "source": [
    "## Conclusion\n",
    "\n",
    "In this tutorial, we explored how to use `withColumn` to add, modify, and calculate new columns in Spark DataFrames. We also learned how to rename and drop columns efficiently. These techniques are essential for data manipulation and transformation in Spark.\n",
    "\n",
    "`withColumn` is versatile and allows us to add custom calculations and transformations directly into the DataFrame, making it a key function for data engineering tasks."
   ]
  },
  {
   "cell_type": "code",
   "execution_count": 11,
   "metadata": {},
   "outputs": [],
   "source": [
    "# Stop the Spark session\n",
    "spark.stop()"
   ]
  }
 ],
 "metadata": {
  "kernelspec": {
   "display_name": "Python 3 (ipykernel)",
   "language": "python",
   "name": "python3"
  },
  "language_info": {
   "codemirror_mode": {
    "name": "ipython",
    "version": 3
   },
   "file_extension": ".py",
   "mimetype": "text/x-python",
   "name": "python",
   "nbconvert_exporter": "python",
   "pygments_lexer": "ipython3",
   "version": "3.10.12"
  }
 },
 "nbformat": 4,
 "nbformat_minor": 4
}
