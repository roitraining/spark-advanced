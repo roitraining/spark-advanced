{
 "cells": [
  {
   "cell_type": "markdown",
   "id": "0ca454bb",
   "metadata": {},
   "source": [
    "# Chapter 3: Resilient Distributed Datasets (RDDs)\n",
    "\n",
    "This notebook covers the core concepts of RDDs, including their creation, transformations, actions, persistence, and a real-world example (Word Count)."
   ]
  },
  {
   "cell_type": "markdown",
   "id": "1548fcc8",
   "metadata": {},
   "source": [
    "## 1. Introduction to RDDs\n",
    "RDDs are the fundamental data structure in Apache Spark. They are:\n",
    "- Immutable: Once created, they cannot be changed.\n",
    "- Distributed: Data is partitioned across the nodes of a cluster.\n",
    "- Fault-Tolerant: Spark can recover RDDs in case of failures."
   ]
  },
  {
   "cell_type": "markdown",
   "id": "e361eadf",
   "metadata": {},
   "source": [
    "### 1.1 Creating RDDs"
   ]
  },
  {
   "cell_type": "code",
   "execution_count": 1,
   "id": "53a244d7",
   "metadata": {},
   "outputs": [
    {
     "name": "stderr",
     "output_type": "stream",
     "text": [
      "Setting default log level to \"WARN\".\n",
      "To adjust logging level use sc.setLogLevel(newLevel). For SparkR, use setLogLevel(newLevel).\n",
      "25/01/14 21:39:36 WARN NativeCodeLoader: Unable to load native-hadoop library for your platform... using builtin-java classes where applicable\n",
      "25/01/14 21:39:37 WARN Utils: Service 'SparkUI' could not bind on port 4040. Attempting port 4041.\n",
      "25/01/14 21:39:37 WARN Utils: Service 'SparkUI' could not bind on port 4041. Attempting port 4042.\n"
     ]
    },
    {
     "name": "stdout",
     "output_type": "stream",
     "text": [
      "RDD Elements: [1, 2, 3, 4, 5]\n",
      "File RDD Sample: ['Imran in Ottawa, a journey begun,', 'Where the Ottawa River gleams beneath the sun,', 'He walks the streets, with wonder in his eyes,', 'A city of dreams, beneath autumnal skies.', '']\n"
     ]
    },
    {
     "name": "stderr",
     "output_type": "stream",
     "text": [
      "                                                                                \r"
     ]
    }
   ],
   "source": [
    "from pyspark.sql import SparkSession\n",
    "\n",
    "# Initialize Spark Session\n",
    "spark = SparkSession.builder.appName(\"RDDExamples\").getOrCreate()\n",
    "\n",
    "# Creating an RDD from a list\n",
    "data = [1, 2, 3, 4, 5]\n",
    "rdd = spark.sparkContext.parallelize(data)\n",
    "print(\"RDD Elements:\", rdd.collect())\n",
    "\n",
    "# Creating an RDD from an external file\n",
    "file_rdd = spark.sparkContext.textFile(\"word.txt\")\n",
    "print(\"File RDD Sample:\", file_rdd.take(5))"
   ]
  },
  {
   "cell_type": "markdown",
   "id": "61fef86a",
   "metadata": {},
   "source": [
    "## 2. Transformations\n",
    "Transformations create new RDDs from existing ones. They are **lazy**, meaning Spark doesn’t execute them until an action is called."
   ]
  },
  {
   "cell_type": "markdown",
   "id": "99c97453",
   "metadata": {},
   "source": [
    "### 2.1 map() Transformation"
   ]
  },
  {
   "cell_type": "code",
   "execution_count": 2,
   "id": "3a7bfa91",
   "metadata": {},
   "outputs": [
    {
     "name": "stdout",
     "output_type": "stream",
     "text": [
      "Squared RDD: [1, 4, 9, 16, 25]\n"
     ]
    }
   ],
   "source": [
    "# Applying a map() transformation\n",
    "squared_rdd = rdd.map(lambda x: x ** 2)\n",
    "print(\"Squared RDD:\", squared_rdd.collect())"
   ]
  },
  {
   "cell_type": "markdown",
   "id": "05c514fd",
   "metadata": {},
   "source": [
    "### 2.2 flatMap() Transformation"
   ]
  },
  {
   "cell_type": "code",
   "execution_count": 3,
   "id": "ae7e9e07",
   "metadata": {},
   "outputs": [
    {
     "name": "stdout",
     "output_type": "stream",
     "text": [
      "Words RDD: ['Hello', 'world', 'Apache', 'Spark', 'is', 'great']\n"
     ]
    }
   ],
   "source": [
    "# Using flatMap() to split lines into words\n",
    "text_rdd = spark.sparkContext.parallelize([\"Hello world\", \"Apache Spark is great\"])\n",
    "words_rdd = text_rdd.flatMap(lambda line: line.split(\" \"))\n",
    "print(\"Words RDD:\", words_rdd.collect())"
   ]
  },
  {
   "cell_type": "markdown",
   "id": "07f42226",
   "metadata": {},
   "source": [
    "### 2.3 filter() Transformation"
   ]
  },
  {
   "cell_type": "code",
   "execution_count": 4,
   "id": "98f104cd",
   "metadata": {},
   "outputs": [
    {
     "name": "stdout",
     "output_type": "stream",
     "text": [
      "Even Numbers: [2, 4]\n"
     ]
    }
   ],
   "source": [
    "# Filtering even numbers from an RDD\n",
    "even_rdd = rdd.filter(lambda x: x % 2 == 0)\n",
    "print(\"Even Numbers:\", even_rdd.collect())"
   ]
  },
  {
   "cell_type": "markdown",
   "id": "ae187c8a",
   "metadata": {},
   "source": [
    "## 3. Actions\n",
    "Actions trigger the execution of transformations. They return results or save data to an external storage."
   ]
  },
  {
   "cell_type": "markdown",
   "id": "c2a0f5d2",
   "metadata": {},
   "source": [
    "### 3.1 collect() Action"
   ]
  },
  {
   "cell_type": "code",
   "execution_count": 5,
   "id": "d3583daa",
   "metadata": {},
   "outputs": [
    {
     "name": "stdout",
     "output_type": "stream",
     "text": [
      "Collected Data: [1, 2, 3, 4, 5]\n"
     ]
    }
   ],
   "source": [
    "# Collecting all elements of an RDD\n",
    "collected_data = rdd.collect()\n",
    "print(\"Collected Data:\", collected_data)"
   ]
  },
  {
   "cell_type": "markdown",
   "id": "c08c4137",
   "metadata": {},
   "source": [
    "### 3.2 reduce() Action"
   ]
  },
  {
   "cell_type": "code",
   "execution_count": 6,
   "id": "f5fb40b1",
   "metadata": {},
   "outputs": [
    {
     "name": "stdout",
     "output_type": "stream",
     "text": [
      "Sum of Elements: 15\n"
     ]
    }
   ],
   "source": [
    "# Summing all elements in an RDD\n",
    "sum_result = rdd.reduce(lambda x, y: x + y)\n",
    "print(\"Sum of Elements:\", sum_result)"
   ]
  },
  {
   "cell_type": "markdown",
   "id": "883bc171",
   "metadata": {},
   "source": [
    "### 3.3 count() and countByValue()"
   ]
  },
  {
   "cell_type": "code",
   "execution_count": 7,
   "id": "e54a0416",
   "metadata": {},
   "outputs": [
    {
     "name": "stdout",
     "output_type": "stream",
     "text": [
      "Number of Elements: 5\n",
      "Count by Value: {1: 1, 2: 1, 3: 1, 4: 1, 5: 1}\n"
     ]
    }
   ],
   "source": [
    "# Counting elements in the RDD\n",
    "count = rdd.count()\n",
    "print(\"Number of Elements:\", count)\n",
    "\n",
    "# Counting occurrences of each value\n",
    "count_by_value = rdd.countByValue()\n",
    "print(\"Count by Value:\", dict(count_by_value))"
   ]
  },
  {
   "cell_type": "markdown",
   "id": "16c653f2",
   "metadata": {},
   "source": [
    "## 4. Persistence\n",
    "Persisting an RDD improves performance when the same data is reused multiple times."
   ]
  },
  {
   "cell_type": "code",
   "execution_count": 8,
   "id": "dace23d0",
   "metadata": {},
   "outputs": [
    {
     "name": "stdout",
     "output_type": "stream",
     "text": [
      "Cached RDD Count: 5\n"
     ]
    }
   ],
   "source": [
    "# Persisting an RDD in memory\n",
    "cached_rdd = rdd.cache()\n",
    "print(\"Cached RDD Count:\", cached_rdd.count())"
   ]
  },
  {
   "cell_type": "markdown",
   "id": "ac11f47e",
   "metadata": {},
   "source": [
    "## 5. Real-World Example: Word Count"
   ]
  },
  {
   "cell_type": "code",
   "execution_count": 9,
   "id": "ef1c2faf",
   "metadata": {},
   "outputs": [
    {
     "name": "stdout",
     "output_type": "stream",
     "text": [
      "Word Counts: [('Imran', 10), ('begun,', 1), ('Where', 2), ('Ottawa', 1), ('River', 1), ('walks', 2), ('with', 6), ('his', 5), ('A', 9), ('of', 12), ('dreams,', 2), ('', 10), ('Hill,', 2), ('where', 2), ('history', 2), ('resides,', 1), ('Peace', 1), ('Tower', 1), ('stands', 2), ('pride,', 1), ('hears', 1), ('melody', 1), ('so', 2), ('clear,', 1), ('echoing', 1), ('ear.', 1), ('By', 1), ('Centennial', 1), ('and', 8), ('heartfelt', 1), ('take', 1), ('their', 1), ('embrace,', 1), ('bathed', 1), ('golden', 1), ('light.', 1), ('glide', 1), ('by,', 1), ('watches', 1), ('twirl,', 1), (\"winter's\", 1), ('icy', 1), ('seasons,', 1), ('Market,', 1), (\"Imran's\", 1), ('senses', 1), ('tastes', 1), ('flavors,', 1), ('cultures', 1), ('far', 1), ('journey,', 1), ('holds', 1), ('dear.', 1), ('explores', 1), ('curious', 1), ('mind,', 1), ('kind,', 1), ('From', 1), ('ancient', 1), ('to', 4), ('past,', 1), ('own', 1), ('Park,', 1), ('Hiking', 1), ('cease,', 1), ('step', 2), ('spirit', 1), ('awakes.', 1), ('At', 1), ('Hall,', 1), ('awe,', 1), ('core,', 1), ('tulips', 1), ('full', 1), ('bloom,', 1), ('symbol', 1), ('dispelling', 1), ('gloom.', 1), (\"autumn's\", 1), ('impart,', 1), ('kaleidoscope', 1), ('mesmerizing', 1), ('dance.', 1), ('descends,', 1), ('Snowflakes', 1), ('falling', 1), ('softly,', 1), ('at', 1), ('city,', 1), ('wintery', 1), ('attire,', 1), ('soul', 1), ('behold,', 1), ('wonders,', 1), ('stories', 1), ('told,', 1), ('sight', 1), ('sees,', 1), ('himself,', 1), (\"capital's\", 1), ('in', 11), ('Ottawa,', 2), ('a', 9), ('journey', 2), ('the', 16), ('gleams', 1), ('beneath', 2), ('sun,', 1), ('He', 11), ('streets,', 1), ('wonder', 1), ('eyes,', 1), ('city', 3), ('autumnal', 1), ('skies.', 1), ('on', 3), ('Parliament', 2), ('The', 1), ('tall,', 1), ('national', 1), ('carillon,', 1), ('its', 2), ('symphony', 1), ('time,', 1), ('Flame,', 1), ('makes', 1), ('wish,', 1), ('For', 1), ('peace', 1), ('unity,', 1), ('fervent,', 1), ('kiss,', 1), ('feels', 2), ('warmth,', 1), ('dreams', 1), ('that', 1), ('flight,', 2), ('In', 3), (\"Ottawa's\", 1), ('strolls', 1), ('along', 1), (\"canal's\", 1), ('gentle', 1), ('flow,', 1), ('boats', 1), (\"summer's\", 1), ('vibrant', 2), ('glow,', 1), ('skaters', 1), ('grace,', 1), ('captivating', 1), ('space.', 1), ('Byward', 1), ('ignite,', 1), ('With', 2), ('colors,', 2), ('aromas', 1), ('taking', 1), ('near,', 1), ('culinary', 1), ('he', 5), ('museums,', 1), ('Unraveling', 1), ('stories,', 1), ('different', 1), ('artifacts', 1), ('modern', 1), (\"art's\", 1), ('display,', 1), ('delves', 1), ('into', 1), ('finds', 4), ('way.', 1), ('Gatineau', 1), ('solace', 1), ('peace,', 1), ('through', 1), ('trails,', 1), ('worries', 1), ('breathes', 1), ('fresh', 1), ('air,', 1), ('every', 4), ('takes,', 2), ('moment', 1), ('serenity,', 1), ('Rideau', 1), ('Of', 1), ('tradition,', 1), ('gardens,', 1), ('hope,', 1), ('any', 1), ('witnesses', 1), ('fiery', 1), ('art,', 1), ('As', 1), ('leaves', 1), ('transform,', 1), ('masterpiece', 1), ('captures', 1), ('beauty,', 1), ('passing', 1), ('glance,', 1), ('Winter', 1), ('chill,', 1), ('marvels', 1), ('wonderland', 1), ('setting', 1), ('fire.', 1), ('be', 1), ('piece', 1), ('breeze.', 1)]\n"
     ]
    }
   ],
   "source": [
    "# Performing Word Count on a local text file\n",
    "text_file = spark.sparkContext.textFile(\"word.txt\")  # Make sure words.txt is in the same directory\n",
    "word_counts = text_file.flatMap(lambda line: line.split(\" \")) \\\n",
    "                       .map(lambda word: (word, 1)) \\\n",
    "                       .reduceByKey(lambda x, y: x + y)\n",
    "\n",
    "print(\"Word Counts:\", word_counts.collect())\n"
   ]
  },
  {
   "cell_type": "markdown",
   "id": "f8460557",
   "metadata": {},
   "source": [
    "## 6. Execution Plan\n",
    "Spark generates an execution plan to optimize transformations."
   ]
  },
  {
   "cell_type": "code",
   "execution_count": 10,
   "id": "2b17622a",
   "metadata": {},
   "outputs": [
    {
     "name": "stdout",
     "output_type": "stream",
     "text": [
      "RDD Lineage: b'(2) PythonRDD[18] at collect at /tmp/ipykernel_2743/3114491937.py:7 []\\n |  MapPartitionsRDD[17] at mapPartitions at PythonRDD.scala:160 []\\n |  ShuffledRDD[16] at partitionBy at NativeMethodAccessorImpl.java:0 []\\n +-(2) PairwiseRDD[15] at reduceByKey at /tmp/ipykernel_2743/3114491937.py:5 []\\n    |  PythonRDD[14] at reduceByKey at /tmp/ipykernel_2743/3114491937.py:5 []\\n    |  word.txt MapPartitionsRDD[13] at textFile at NativeMethodAccessorImpl.java:0 []\\n    |  word.txt HadoopRDD[12] at textFile at NativeMethodAccessorImpl.java:0 []'\n"
     ]
    }
   ],
   "source": [
    "# Viewing the lineage of an RDD\n",
    "print(\"RDD Lineage:\", word_counts.toDebugString())"
   ]
  },
  {
   "cell_type": "markdown",
   "id": "8d672eea",
   "metadata": {},
   "source": [
    "## Chapter Summary\n",
    "In this notebook, we covered:\n",
    "- RDD creation\n",
    "- Transformations (map, flatMap, filter)\n",
    "- Actions (collect, reduce, count)\n",
    "- Persistence with cache()\n",
    "- Real-world example: Word Count\n",
    "- Execution plan and lineage"
   ]
  }
 ],
 "metadata": {
  "kernelspec": {
   "display_name": "Python 3 (ipykernel)",
   "language": "python",
   "name": "python3"
  },
  "language_info": {
   "codemirror_mode": {
    "name": "ipython",
    "version": 3
   },
   "file_extension": ".py",
   "mimetype": "text/x-python",
   "name": "python",
   "nbconvert_exporter": "python",
   "pygments_lexer": "ipython3",
   "version": "3.12.3"
  }
 },
 "nbformat": 4,
 "nbformat_minor": 5
}
