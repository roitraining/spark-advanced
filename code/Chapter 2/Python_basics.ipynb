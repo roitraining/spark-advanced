{
 "cells": [
  {
   "cell_type": "markdown",
   "id": "1a617624",
   "metadata": {},
   "source": [
    "# Chapter 2: Spark Application Development\n",
    "\n",
    "This notebook covers foundational Python programming concepts, data structures, Pandas for data analysis, and working with PySpark DataFrames."
   ]
  },
  {
   "cell_type": "markdown",
   "id": "d9fa3add",
   "metadata": {},
   "source": [
    "## Agenda\n",
    "1. Basic Python Programming Concepts\n",
    "2. Python Data Structures\n",
    "3. Pandas for Data Analysis\n",
    "4. PySpark DataFrames\n",
    "5. Exploratory Data Analysis"
   ]
  },
  {
   "cell_type": "code",
   "execution_count": null,
   "id": "e480eae4-0551-45c6-9f20-665dadf6fedb",
   "metadata": {},
   "outputs": [],
   "source": [
    "! pip install pandas"
   ]
  },
  {
   "cell_type": "markdown",
   "id": "3d7eed37",
   "metadata": {},
   "source": [
    "## 1. Basic Python Programming Concepts"
   ]
  },
  {
   "cell_type": "code",
   "execution_count": null,
   "id": "fe25b1c6",
   "metadata": {},
   "outputs": [],
   "source": [
    "# Hello World Program in Python\n",
    "print(\"Hello, World!\")"
   ]
  },
  {
   "cell_type": "markdown",
   "id": "68006b23",
   "metadata": {},
   "source": [
    "### Variables and Data Types"
   ]
  },
  {
   "cell_type": "code",
   "execution_count": null,
   "id": "72f61bd5",
   "metadata": {},
   "outputs": [],
   "source": [
    "# Integer, Float, and String\n",
    "x = 10          # Integer\n",
    "y = 3.14        # Float\n",
    "name = \"Spark\" # String\n",
    "\n",
    "print(f\"Integer: {x}, Float: {y}, String: {name}\")"
   ]
  },
  {
   "cell_type": "markdown",
   "id": "d5741f04",
   "metadata": {},
   "source": [
    "## 2. Python Data Structures"
   ]
  },
  {
   "cell_type": "markdown",
   "id": "9b39ae85",
   "metadata": {},
   "source": [
    "### Lists"
   ]
  },
  {
   "cell_type": "code",
   "execution_count": null,
   "id": "0403e0da",
   "metadata": {},
   "outputs": [],
   "source": [
    "# Creating and accessing lists\n",
    "numbers = [1, 2, 3, 4, 5]\n",
    "print(\"List elements:\", numbers)\n",
    "print(\"First element:\", numbers[0])"
   ]
  },
  {
   "cell_type": "markdown",
   "id": "f4ce3e75",
   "metadata": {},
   "source": [
    "### Tuples"
   ]
  },
  {
   "cell_type": "code",
   "execution_count": null,
   "id": "95fe906f",
   "metadata": {},
   "outputs": [],
   "source": [
    "# Creating and accessing tuples\n",
    "coordinates = (10, 20)\n",
    "print(\"Tuple elements:\", coordinates)\n",
    "print(\"First element:\", coordinates[0])"
   ]
  },
  {
   "cell_type": "markdown",
   "id": "31f51b50",
   "metadata": {},
   "source": [
    "### Dictionaries"
   ]
  },
  {
   "cell_type": "code",
   "execution_count": null,
   "id": "30cf6c51",
   "metadata": {},
   "outputs": [],
   "source": [
    "# Creating and accessing dictionaries\n",
    "person = {\"name\": \"Alice\", \"age\": 25}\n",
    "print(\"Name:\", person[\"name\"])\n",
    "print(\"Age:\", person[\"age\"])"
   ]
  },
  {
   "cell_type": "markdown",
   "id": "6dbeeb43",
   "metadata": {},
   "source": [
    "### Sets"
   ]
  },
  {
   "cell_type": "code",
   "execution_count": null,
   "id": "b7749a7e",
   "metadata": {},
   "outputs": [],
   "source": [
    "# Creating and using sets\n",
    "unique_numbers = {1, 2, 3, 4, 4, 5}\n",
    "print(\"Set elements:\", unique_numbers)"
   ]
  },
  {
   "cell_type": "markdown",
   "id": "4674618e",
   "metadata": {},
   "source": [
    "## 3. Pandas for Data Analysis"
   ]
  },
  {
   "cell_type": "code",
   "execution_count": null,
   "id": "a83ed712",
   "metadata": {},
   "outputs": [],
   "source": [
    "import pandas as pd\n",
    "\n",
    "# Creating a DataFrame\n",
    "data = {\n",
    "    \"Name\": [\"Alice\", \"Bob\", \"Cathy\"],\n",
    "    \"Age\": [25, 30, 27],\n",
    "    \"City\": [\"New York\", \"San Francisco\", \"Los Angeles\"]\n",
    "}\n",
    "df = pd.DataFrame(data)\n",
    "print(\"Pandas DataFrame:\")\n",
    "print(df)"
   ]
  },
  {
   "cell_type": "markdown",
   "id": "3deda491",
   "metadata": {},
   "source": [
    "### Selecting and Filtering Data"
   ]
  },
  {
   "cell_type": "code",
   "execution_count": null,
   "id": "45daeb4a",
   "metadata": {},
   "outputs": [],
   "source": [
    "# Selecting a column\n",
    "print(\"Names:\")\n",
    "print(df[\"Name\"])\n",
    "\n",
    "# Filtering rows\n",
    "print(\"People older than 25:\")\n",
    "print(df[df[\"Age\"] > 25])"
   ]
  },
  {
   "cell_type": "markdown",
   "id": "40328edb",
   "metadata": {},
   "source": [
    "## 4. PySpark DataFrames"
   ]
  },
  {
   "cell_type": "code",
   "execution_count": null,
   "id": "978af1b6",
   "metadata": {},
   "outputs": [],
   "source": [
    "from pyspark.sql import SparkSession\n",
    "\n",
    "# Initializing a Spark Session\n",
    "spark = SparkSession.builder.appName(\"PySparkDataFrame\").getOrCreate()\n",
    "\n",
    "# Creating a PySpark DataFrame\n",
    "data = [(\"Alice\", 25, \"New York\"), (\"Bob\", 30, \"San Francisco\"), (\"Cathy\", 27, \"Los Angeles\")]\n",
    "columns = [\"Name\", \"Age\", \"City\"]\n",
    "spark_df = spark.createDataFrame(data, columns)\n",
    "\n",
    "print(\"PySpark DataFrame:\")\n",
    "spark_df.show()"
   ]
  },
  {
   "cell_type": "markdown",
   "id": "d4f2ddf3",
   "metadata": {},
   "source": [
    "### Querying and Filtering DataFrames"
   ]
  },
  {
   "cell_type": "code",
   "execution_count": null,
   "id": "3c0d694d",
   "metadata": {},
   "outputs": [],
   "source": [
    "# Selecting columns\n",
    "spark_df.select(\"Name\", \"City\").show()\n",
    "\n",
    "# Filtering rows\n",
    "spark_df.filter(spark_df.Age > 25).show()"
   ]
  },
  {
   "cell_type": "markdown",
   "id": "63fdad5d",
   "metadata": {},
   "source": [
    "## 5. Exploratory Data Analysis"
   ]
  },
  {
   "cell_type": "code",
   "execution_count": null,
   "id": "66887edb",
   "metadata": {},
   "outputs": [],
   "source": [
    "# Descriptive statistics in PySpark\n",
    "spark_df.describe().show()"
   ]
  },
  {
   "cell_type": "markdown",
   "id": "3e5e4909",
   "metadata": {},
   "source": [
    "### Measuring Central Tendency and Dispersion"
   ]
  },
  {
   "cell_type": "code",
   "execution_count": null,
   "id": "6caaf300",
   "metadata": {},
   "outputs": [],
   "source": [
    "# Aggregating data\n",
    "spark_df.groupBy().mean(\"Age\").show()  # Mean\n",
    "spark_df.groupBy().max(\"Age\").show()  # Maximum\n",
    "spark_df.groupBy().min(\"Age\").show()  # Minimum"
   ]
  },
  {
   "cell_type": "markdown",
   "id": "1eed0de7",
   "metadata": {},
   "source": [
    "## Chapter Summary\n",
    "In this notebook, we covered:\n",
    "- Python programming fundamentals\n",
    "- Data structures in Python (lists, tuples, dictionaries, sets)\n",
    "- Using Pandas for data manipulation\n",
    "- PySpark DataFrames for distributed data analysis\n",
    "- Basic exploratory data analysis techniques"
   ]
  }
 ],
 "metadata": {
  "kernelspec": {
   "display_name": "Python 3 (ipykernel)",
   "language": "python",
   "name": "python3"
  },
  "language_info": {
   "codemirror_mode": {
    "name": "ipython",
    "version": 3
   },
   "file_extension": ".py",
   "mimetype": "text/x-python",
   "name": "python",
   "nbconvert_exporter": "python",
   "pygments_lexer": "ipython3",
   "version": "3.12.3"
  }
 },
 "nbformat": 4,
 "nbformat_minor": 5
}
