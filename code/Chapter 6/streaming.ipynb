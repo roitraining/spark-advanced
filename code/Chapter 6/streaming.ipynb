{
 "cells": [
  {
   "cell_type": "markdown",
   "id": "bcee6647-7046-42fc-9c49-9d2e9d3f2ea9",
   "metadata": {},
   "source": [
    "**How It Works**  \n",
    "1. Spark watches a specified directory for **new text files**.  \n",
    "2. Whenever a new file appears, the lines are read and processed.  \n",
    "3. This uses Spark Streaming’s `textFileStream()` to ingest the data"
   ]
  },
  {
   "cell_type": "code",
   "execution_count": null,
   "id": "0f170a0f-4672-4166-bac7-22bb27e41e52",
   "metadata": {},
   "outputs": [],
   "source": [
    "from pyspark import SparkContext\n",
    "from pyspark.streaming import StreamingContext\n",
    "import time\n",
    "\n",
    "# 1. Create SparkContext and StreamingContext\n",
    "sc = SparkContext(\"local[2]\", \"FileStreamWordCount\")\n",
    "ssc = StreamingContext(sc, 5)  # batch interval of 5 seconds\n",
    "\n",
    "# 2. Set checkpoint directory (required by streaming window operations)\n",
    "ssc.checkpoint(\"checkpoint-directory\")\n",
    "\n",
    "# 3. Define the file-based streaming source\n",
    "#    Replace '/path/to/watch' with an actual directory to watch for new files\n",
    "lines = ssc.textFileStream(\"file:///path/to/watch\")\n",
    "\n",
    "# 4. Split each line into words\n",
    "words = lines.flatMap(lambda line: line.split())\n",
    "\n",
    "# 5. Simple word count\n",
    "wordCounts = words.map(lambda w: (w, 1)).reduceByKey(lambda x, y: x + y)\n",
    "\n",
    "# 6. Print and optionally save the results\n",
    "wordCounts.pprint()\n",
    "wordCounts.saveAsTextFiles(\"output/wordcount\")\n",
    "\n",
    "# 7. (Optional) Windowed word count (10s window, slides every 5s)\n",
    "windowedWordCounts = words \\\n",
    "    .map(lambda w: (w, 1)) \\\n",
    "    .reduceByKeyAndWindow(lambda x, y: x + y,\n",
    "                          lambda x, y: x - y,\n",
    "                          10, 5)\n",
    "windowedWordCounts.pprint()\n",
    "\n",
    "# 8. Start the streaming context\n",
    "ssc.start()\n",
    "\n",
    "# 9. Await termination (stop with Ctrl + C in terminal)\n",
    "ssc.awaitTermination()"
   ]
  },
  {
   "cell_type": "code",
   "execution_count": null,
   "id": "800c4556-df67-491b-beaa-cc879d912aaf",
   "metadata": {},
   "outputs": [],
   "source": []
  }
 ],
 "metadata": {
  "kernelspec": {
   "display_name": "Python 3 (ipykernel)",
   "language": "python",
   "name": "python3"
  },
  "language_info": {
   "codemirror_mode": {
    "name": "ipython",
    "version": 3
   },
   "file_extension": ".py",
   "mimetype": "text/x-python",
   "name": "python",
   "nbconvert_exporter": "python",
   "pygments_lexer": "ipython3",
   "version": "3.12.3"
  }
 },
 "nbformat": 4,
 "nbformat_minor": 5
}
