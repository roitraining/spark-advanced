{
 "cells": [
  {
   "cell_type": "code",
   "execution_count": null,
   "id": "fa27959f-b29b-46ff-825a-d01d03b5d4ce",
   "metadata": {},
   "outputs": [],
   "source": [
    "\n",
    "# 1. Import and Create SparkSession\n",
    "from pyspark.sql import SparkSession\n",
    "import json\n",
    "import time\n",
    "\n",
    "spark = SparkSession.builder.appName(\"CachingExample\").getOrCreate()\n",
    "\n",
    "# 2. Generate a small data.json for demo purposes (valid JSON lines)\n",
    "fake_data = [\n",
    "    {\"name\": \"Alice\", \"age\": 25},\n",
    "    {\"name\": \"Bob\",   \"age\": 30},\n",
    "    {\"name\": \"Cara\",  \"age\": 35},\n",
    "    {\"name\": \"Dana\",  \"age\": None},   # Missing age example\n",
    "    {\"name\": \"Eli\"}                   # Another missing age example\n",
    "]\n",
    "\n",
    "with open(\"data.json\", \"w\") as f:\n",
    "    for row in fake_data:\n",
    "        f.write(json.dumps(row) + \"\\n\")\n",
    "\n",
    "# 3. Read data.json\n",
    "df = spark.read.json(\"data.json\")\n",
    "\n",
    "# 4. Show the DataFrame (should not error)\n",
    "df.show()\n",
    "df.printSchema()\n",
    "\n",
    "# 5. Demonstrate caching a DataFrame\n",
    "start_time = time.time()\n",
    "\n",
    "# De-duplicate and cache\n",
    "df_cached = df.distinct().cache()\n",
    "\n",
    "# First count (loads + caches the data)\n",
    "count_1 = df_cached.count()\n",
    "duration_1 = time.time() - start_time\n",
    "print(f\"First count:  {count_1} rows; took {duration_1:.4f} seconds\")\n",
    "\n",
    "# Second count (cached)\n",
    "start_time = time.time()\n",
    "count_2 = df_cached.count()\n",
    "duration_2 = time.time() - start_time\n",
    "print(f\"Second count: {count_2} rows; took {duration_2:.4f} seconds\")\n",
    "\n",
    "# 6. Unpersist the cache\n",
    "print(f\"\\nIs df_cached cached? {df_cached.is_cached}\")\n",
    "df_cached.unpersist()\n",
    "print(f\"Is df_cached cached after unpersist()? {df_cached.is_cached}\")\n",
    "\n",
    "# 7. Optional: Stop the SparkSession\n",
    "spark.stop()\n"
   ]
  },
  {
   "cell_type": "code",
   "execution_count": null,
   "id": "7c835bc2-0d64-4010-abe9-ebdc855e8f91",
   "metadata": {},
   "outputs": [],
   "source": []
  },
  {
   "cell_type": "code",
   "execution_count": null,
   "id": "b0d63823-437e-4961-ad6d-bbeb4d649fa1",
   "metadata": {},
   "outputs": [],
   "source": []
  }
 ],
 "metadata": {
  "kernelspec": {
   "display_name": "Python 3 (ipykernel)",
   "language": "python",
   "name": "python3"
  },
  "language_info": {
   "codemirror_mode": {
    "name": "ipython",
    "version": 3
   },
   "file_extension": ".py",
   "mimetype": "text/x-python",
   "name": "python",
   "nbconvert_exporter": "python",
   "pygments_lexer": "ipython3",
   "version": "3.12.3"
  }
 },
 "nbformat": 4,
 "nbformat_minor": 5
}
