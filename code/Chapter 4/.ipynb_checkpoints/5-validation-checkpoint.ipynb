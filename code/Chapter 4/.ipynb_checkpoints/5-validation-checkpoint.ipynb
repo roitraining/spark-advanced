{
 "cells": [
  {
   "cell_type": "code",
   "execution_count": 1,
   "id": "61cb984f-f1be-4d11-b1cb-2ffc7f0ff80c",
   "metadata": {},
   "outputs": [
    {
     "name": "stderr",
     "output_type": "stream",
     "text": [
      "Setting default log level to \"WARN\".\n",
      "To adjust logging level use sc.setLogLevel(newLevel). For SparkR, use setLogLevel(newLevel).\n",
      "25/01/17 16:07:23 WARN NativeCodeLoader: Unable to load native-hadoop library for your platform... using builtin-java classes where applicable\n",
      "                                                                                \r"
     ]
    },
    {
     "name": "stdout",
     "output_type": "stream",
     "text": [
      "Before Join: 4 rows\n",
      "After Join:  2 rows\n",
      "\n",
      "Invalid Rows: 2\n",
      "Distinct Invalid Folders: 2\n"
     ]
    }
   ],
   "source": [
    "\n",
    "from pyspark.sql import SparkSession\n",
    "from pyspark.sql import functions as F\n",
    "\n",
    "# Create SparkSession\n",
    "spark = SparkSession.builder.appName(\"FixCode\").getOrCreate()\n",
    "\n",
    "# Sample Data for valid_folders_df\n",
    "valid_folders_data = [(\"folderA\",), (\"folderB\",)]\n",
    "valid_folders_df = spark.createDataFrame(valid_folders_data, [\"_c0\"])\n",
    "\n",
    "# Sample Data for split_df\n",
    "split_data = [\n",
    "    (\"folderA\", \"val1\"),\n",
    "    (\"folderC\", \"val2\"),\n",
    "    (\"folderB\", \"val3\"),\n",
    "    (\"folderD\", \"val4\")\n",
    "]\n",
    "split_df = spark.createDataFrame(split_data, [\"folder\", \"some_column\"])\n",
    "\n",
    "# Rename '_c0' to 'folder'\n",
    "valid_folders_df = valid_folders_df.withColumnRenamed(\"_c0\", \"folder\")\n",
    "\n",
    "# Count rows before join\n",
    "split_count = split_df.count()\n",
    "\n",
    "# Join DataFrames (broadcast the smaller DF)\n",
    "joined_df = split_df.join(F.broadcast(valid_folders_df), \"folder\")\n",
    "\n",
    "# Count rows after join\n",
    "joined_count = joined_df.count()\n",
    "print(f\"Before Join: {split_count} rows\")\n",
    "print(f\"After Join:  {joined_count} rows\\n\")\n",
    "\n",
    "# Create a DataFrame containing invalid rows\n",
    "invalid_df = split_df.join(joined_df, \"folder\", \"left_anti\")\n",
    "invalid_count = invalid_df.count()\n",
    "print(f\"Invalid Rows: {invalid_count}\")\n",
    "\n",
    "# Number of distinct invalid folders\n",
    "invalid_folder_count = invalid_df.select(\"folder\").distinct().count()\n",
    "print(f\"Distinct Invalid Folders: {invalid_folder_count}\")\n"
   ]
  },
  {
   "cell_type": "code",
   "execution_count": null,
   "id": "1d3067d6-95cb-45f5-9ca2-05288081150c",
   "metadata": {},
   "outputs": [],
   "source": []
  }
 ],
 "metadata": {
  "kernelspec": {
   "display_name": "Python 3 (ipykernel)",
   "language": "python",
   "name": "python3"
  },
  "language_info": {
   "codemirror_mode": {
    "name": "ipython",
    "version": 3
   },
   "file_extension": ".py",
   "mimetype": "text/x-python",
   "name": "python",
   "nbconvert_exporter": "python",
   "pygments_lexer": "ipython3",
   "version": "3.12.3"
  }
 },
 "nbformat": 4,
 "nbformat_minor": 5
}
