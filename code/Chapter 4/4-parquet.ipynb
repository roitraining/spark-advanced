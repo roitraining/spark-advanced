{
 "cells": [
  {
   "cell_type": "code",
   "execution_count": null,
   "id": "0c5a4828-1cb1-4c4e-9dcc-5fc8fb55e070",
   "metadata": {},
   "outputs": [],
   "source": [
    "\n",
    "from pyspark.sql import SparkSession\n",
    "from pyspark.sql import functions as F\n",
    "\n",
    "# 1. Create SparkSession\n",
    "spark = SparkSession.builder.appName(\"ParquetExample\").getOrCreate()\n",
    "\n",
    "# 2. Generate a fake JSON file (people.json) for demo purposes\n",
    "fake_data = [\n",
    "    (\"John\", 15),\n",
    "    (\"Jane\", 22),\n",
    "    (\"Mia\", 17),\n",
    "    (\"Jake\", 40)\n",
    "]\n",
    "peopleDF_fake = spark.createDataFrame(fake_data, [\"name\", \"age\"])\n",
    "\n",
    "# Write the fake data to JSON\n",
    "peopleDF_fake.write.mode(\"overwrite\").json(\"people.json\")\n",
    "\n",
    "# 3. Read people.json into a new DataFrame\n",
    "peopleDF = spark.read.json(\"people.json\")\n",
    "peopleDF.show()\n",
    "\n",
    "# 4. Write the DataFrame to Parquet\n",
    "peopleDF.write.mode(\"overwrite\").parquet(\"people.parquet\")\n",
    "\n",
    "# 5. Read in the Parquet file and create a temporary view\n",
    "parquetFile = spark.read.parquet(\"people.parquet\")\n",
    "parquetFile.createOrReplaceTempView(\"parquetFile\")\n",
    "\n",
    "# 6. Query with SQL (get teenagers 13-19)\n",
    "teenagers = spark.sql(\"SELECT name, age FROM parquetFile WHERE age BETWEEN 13 AND 19\")\n",
    "teenagers.show()\n",
    "\n",
    "# 7. Optional: Stop the SparkSession when done\n",
    "spark.stop()\n"
   ]
  },
  {
   "cell_type": "code",
   "execution_count": null,
   "id": "04aaaff5-00ca-4cea-ac80-e66d68dbf2f2",
   "metadata": {},
   "outputs": [],
   "source": []
  }
 ],
 "metadata": {
  "kernelspec": {
   "display_name": "Python 3 (ipykernel)",
   "language": "python",
   "name": "python3"
  },
  "language_info": {
   "codemirror_mode": {
    "name": "ipython",
    "version": 3
   },
   "file_extension": ".py",
   "mimetype": "text/x-python",
   "name": "python",
   "nbconvert_exporter": "python",
   "pygments_lexer": "ipython3",
   "version": "3.12.3"
  }
 },
 "nbformat": 4,
 "nbformat_minor": 5
}
