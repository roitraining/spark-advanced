{
 "cells": [
  {
   "cell_type": "markdown",
   "id": "8843a382",
   "metadata": {},
   "source": [
    "# Advanced Row Manipulation in PySpark\n",
    "In this notebook, we will explore various row manipulation techniques in PySpark. These methods include filtering, sorting, deduplication, sampling, and using window functions.\n",
    "\n",
    "## Topics Covered\n",
    "1. Filtering Rows\n",
    "2. Sorting Rows\n",
    "3. Removing Duplicate Rows\n",
    "4. Random Sampling\n",
    "5. Applying Custom Row-wise Operations\n",
    "6. Renaming Columns\n",
    "7. Retrieving Unique Rows\n",
    "8. Using Window Functions\n",
    "9. Summary and Best Practices"
   ]
  },
  {
   "cell_type": "code",
   "execution_count": 1,
   "id": "d01fa20a",
   "metadata": {},
   "outputs": [
    {
     "name": "stderr",
     "output_type": "stream",
     "text": [
      "Setting default log level to \"WARN\".\n",
      "To adjust logging level use sc.setLogLevel(newLevel). For SparkR, use setLogLevel(newLevel).\n",
      "24/11/11 11:11:07 WARN NativeCodeLoader: Unable to load native-hadoop library for your platform... using builtin-java classes where applicable\n"
     ]
    },
    {
     "name": "stdout",
     "output_type": "stream",
     "text": [
      "+---+-----+---+\n",
      "| id| name|age|\n",
      "+---+-----+---+\n",
      "|  1|Alice| 30|\n",
      "|  2|  Bob| 25|\n",
      "|  3|Alice| 28|\n",
      "|  4|David| 35|\n",
      "|  5|  Eve| 29|\n",
      "|  6|  Bob| 22|\n",
      "+---+-----+---+\n",
      "\n"
     ]
    }
   ],
   "source": [
    "# Import necessary libraries\n",
    "from pyspark.sql import SparkSession\n",
    "from pyspark.sql.functions import col, lit, when, rand, row_number\n",
    "from pyspark.sql.window import Window\n",
    "\n",
    "# Initialize Spark session\n",
    "spark = SparkSession.builder.appName(\"Row Manipulation\").getOrCreate()\n",
    "\n",
    "# Create a sample DataFrame\n",
    "data = [(1, \"Alice\", 30), (2, \"Bob\", 25), (3, \"Alice\", 28), (4, \"David\", 35), (5, \"Eve\", 29), (6, \"Bob\", 22)]\n",
    "columns = [\"id\", \"name\", \"age\"]\n",
    "df = spark.createDataFrame(data, columns)\n",
    "df.show()"
   ]
  },
  {
   "cell_type": "markdown",
   "id": "342f3b07",
   "metadata": {},
   "source": [
    "## 1. Filtering Rows\n",
    "We can filter rows using the `filter()` or `where()` functions."
   ]
  },
  {
   "cell_type": "code",
   "execution_count": 2,
   "id": "44d7039c",
   "metadata": {},
   "outputs": [
    {
     "name": "stdout",
     "output_type": "stream",
     "text": [
      "+---+-----+---+\n",
      "| id| name|age|\n",
      "+---+-----+---+\n",
      "|  1|Alice| 30|\n",
      "|  3|Alice| 28|\n",
      "|  4|David| 35|\n",
      "|  5|  Eve| 29|\n",
      "+---+-----+---+\n",
      "\n"
     ]
    }
   ],
   "source": [
    "# Filter rows where age is greater than 25\n",
    "filtered_df = df.filter(col(\"age\") > 25)\n",
    "filtered_df.show()"
   ]
  },
  {
   "cell_type": "markdown",
   "id": "ac6a4ed2",
   "metadata": {},
   "source": [
    "## 2. Sorting Rows\n",
    "Sorting rows can be done using `orderBy()`."
   ]
  },
  {
   "cell_type": "code",
   "execution_count": 3,
   "id": "06ff910f",
   "metadata": {},
   "outputs": [
    {
     "name": "stdout",
     "output_type": "stream",
     "text": [
      "+---+-----+---+\n",
      "| id| name|age|\n",
      "+---+-----+---+\n",
      "|  4|David| 35|\n",
      "|  1|Alice| 30|\n",
      "|  5|  Eve| 29|\n",
      "|  3|Alice| 28|\n",
      "|  2|  Bob| 25|\n",
      "|  6|  Bob| 22|\n",
      "+---+-----+---+\n",
      "\n"
     ]
    }
   ],
   "source": [
    "# Sort DataFrame by age in descending order\n",
    "sorted_df = df.orderBy(col(\"age\").desc())\n",
    "sorted_df.show()"
   ]
  },
  {
   "cell_type": "markdown",
   "id": "de3d107a",
   "metadata": {},
   "source": [
    "## 3. Removing Duplicate Rows\n",
    "Use `dropDuplicates()` to remove duplicates based on specified columns."
   ]
  },
  {
   "cell_type": "code",
   "execution_count": 4,
   "id": "1a065488",
   "metadata": {},
   "outputs": [
    {
     "name": "stdout",
     "output_type": "stream",
     "text": [
      "+---+-----+---+\n",
      "| id| name|age|\n",
      "+---+-----+---+\n",
      "|  1|Alice| 30|\n",
      "|  2|  Bob| 25|\n",
      "|  4|David| 35|\n",
      "|  5|  Eve| 29|\n",
      "+---+-----+---+\n",
      "\n"
     ]
    }
   ],
   "source": [
    "# Remove duplicate rows based on the 'name' column\n",
    "dedup_df = df.dropDuplicates([\"name\"])\n",
    "dedup_df.show()"
   ]
  },
  {
   "cell_type": "markdown",
   "id": "8b7bfff5",
   "metadata": {},
   "source": [
    "## 4. Random Sampling\n",
    "The `sample()` function is used to select a random subset of rows."
   ]
  },
  {
   "cell_type": "code",
   "execution_count": 5,
   "id": "61e578e8",
   "metadata": {},
   "outputs": [
    {
     "name": "stdout",
     "output_type": "stream",
     "text": [
      "+---+----+---+\n",
      "| id|name|age|\n",
      "+---+----+---+\n",
      "|  5| Eve| 29|\n",
      "|  6| Bob| 22|\n",
      "+---+----+---+\n",
      "\n"
     ]
    }
   ],
   "source": [
    "# Sample 50% of the rows randomly\n",
    "sampled_df = df.sample(fraction=0.5, seed=42)\n",
    "sampled_df.show()"
   ]
  },
  {
   "cell_type": "markdown",
   "id": "50dd90e8",
   "metadata": {},
   "source": [
    "## 5. Applying Custom Row-wise Operations\n",
    "For complex row-wise operations, use `rdd.map()`."
   ]
  },
  {
   "cell_type": "code",
   "execution_count": 6,
   "id": "07421389",
   "metadata": {},
   "outputs": [
    {
     "name": "stdout",
     "output_type": "stream",
     "text": [
      "+-----+----------+\n",
      "| name|age_plus_5|\n",
      "+-----+----------+\n",
      "|Alice|        35|\n",
      "|  Bob|        30|\n",
      "|Alice|        33|\n",
      "|David|        40|\n",
      "|  Eve|        34|\n",
      "|  Bob|        27|\n",
      "+-----+----------+\n",
      "\n"
     ]
    }
   ],
   "source": [
    "# Apply a custom function using RDD map\n",
    "rdd = df.rdd.map(lambda row: (row['name'], row['age'] + 5))\n",
    "result_df = rdd.toDF([\"name\", \"age_plus_5\"])\n",
    "result_df.show()"
   ]
  },
  {
   "cell_type": "markdown",
   "id": "58aea5d2",
   "metadata": {},
   "source": [
    "## 6. Renaming Columns\n",
    "The `withColumnRenamed()` function is used to rename columns."
   ]
  },
  {
   "cell_type": "code",
   "execution_count": 7,
   "id": "f1f03987",
   "metadata": {},
   "outputs": [
    {
     "name": "stdout",
     "output_type": "stream",
     "text": [
      "+---+-----+--------+\n",
      "| id| name|user_age|\n",
      "+---+-----+--------+\n",
      "|  1|Alice|      30|\n",
      "|  2|  Bob|      25|\n",
      "|  3|Alice|      28|\n",
      "|  4|David|      35|\n",
      "|  5|  Eve|      29|\n",
      "|  6|  Bob|      22|\n",
      "+---+-----+--------+\n",
      "\n"
     ]
    }
   ],
   "source": [
    "# Rename the 'age' column to 'user_age'\n",
    "renamed_df = df.withColumnRenamed(\"age\", \"user_age\")\n",
    "renamed_df.show()"
   ]
  },
  {
   "cell_type": "markdown",
   "id": "d3a7a96f",
   "metadata": {},
   "source": [
    "## 7. Retrieving Unique Rows\n",
    "Use `distinct()` to get unique rows based on all columns."
   ]
  },
  {
   "cell_type": "code",
   "execution_count": 8,
   "id": "46c79b89",
   "metadata": {},
   "outputs": [
    {
     "name": "stdout",
     "output_type": "stream",
     "text": [
      "+---+-----+---+\n",
      "| id| name|age|\n",
      "+---+-----+---+\n",
      "|  1|Alice| 30|\n",
      "|  2|  Bob| 25|\n",
      "|  3|Alice| 28|\n",
      "|  4|David| 35|\n",
      "|  5|  Eve| 29|\n",
      "|  6|  Bob| 22|\n",
      "+---+-----+---+\n",
      "\n"
     ]
    }
   ],
   "source": [
    "# Get distinct rows\n",
    "unique_df = df.distinct()\n",
    "unique_df.show()"
   ]
  },
  {
   "cell_type": "markdown",
   "id": "622ad25c",
   "metadata": {},
   "source": [
    "## 8. Using Window Functions\n",
    "Window functions enable advanced row-level operations."
   ]
  },
  {
   "cell_type": "code",
   "execution_count": 9,
   "id": "b77f982c",
   "metadata": {},
   "outputs": [
    {
     "name": "stdout",
     "output_type": "stream",
     "text": [
      "+---+-----+---+-------+\n",
      "| id| name|age|row_num|\n",
      "+---+-----+---+-------+\n",
      "|  3|Alice| 28|      1|\n",
      "|  1|Alice| 30|      2|\n",
      "|  6|  Bob| 22|      1|\n",
      "|  2|  Bob| 25|      2|\n",
      "|  4|David| 35|      1|\n",
      "|  5|  Eve| 29|      1|\n",
      "+---+-----+---+-------+\n",
      "\n"
     ]
    }
   ],
   "source": [
    "# Define a window specification and apply row_number()\n",
    "window_spec = Window.partitionBy(\"name\").orderBy(\"age\")\n",
    "windowed_df = df.withColumn(\"row_num\", row_number().over(window_spec))\n",
    "windowed_df.show()"
   ]
  },
  {
   "cell_type": "markdown",
   "id": "0a5825d9",
   "metadata": {},
   "source": [
    "## 9. Summary and Best Practices\n",
    "- Use built-in functions for common row operations.\n",
    "- For complex row manipulations, consider converting to RDD.\n",
    "- Leverage window functions for advanced analysis.\n",
    "- Monitor performance using Spark UI to avoid bottlenecks."
   ]
  }
 ],
 "metadata": {
  "kernelspec": {
   "display_name": "Python 3 (ipykernel)",
   "language": "python",
   "name": "python3"
  },
  "language_info": {
   "codemirror_mode": {
    "name": "ipython",
    "version": 3
   },
   "file_extension": ".py",
   "mimetype": "text/x-python",
   "name": "python",
   "nbconvert_exporter": "python",
   "pygments_lexer": "ipython3",
   "version": "3.10.12"
  }
 },
 "nbformat": 4,
 "nbformat_minor": 5
}
