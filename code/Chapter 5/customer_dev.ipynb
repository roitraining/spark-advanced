{
 "cells": [
  {
   "cell_type": "markdown",
   "id": "7e1fd21d",
   "metadata": {},
   "source": [
    "# Predict Customer Churn with PySpark\n",
    "\n",
    "This notebook demonstrates how to:\n",
    "- Create a list of 5 unlabelled customer records.\n",
    "- Load a previously stored Decision Tree model.\n",
    "- Use the model to predict churn for these customers."
   ]
  },
  {
   "cell_type": "markdown",
   "id": "ddb5f6e7",
   "metadata": {},
   "source": [
    "## Step 1: Initialize PySpark and Define Sample Customers\n",
    "Create a DataFrame with 5 unlabelled customer records."
   ]
  },
  {
   "cell_type": "code",
   "execution_count": null,
   "id": "034c9ff7",
   "metadata": {},
   "outputs": [],
   "source": [
    "from pyspark.sql import SparkSession\n",
    "from pyspark.sql.types import StructType, StructField, IntegerType, DoubleType\n",
    "from pyspark.ml.feature import VectorAssembler\n",
    "\n",
    "# Initialize Spark session\n",
    "spark = SparkSession.builder.appName(\"PredictChurn_WithoutLabels\").getOrCreate()\n",
    "\n",
    "# Define schema for the customer records\n",
    "schema = StructType([\n",
    "    StructField(\"account_length\", IntegerType(), True),\n",
    "    StructField(\"number_vmail_messages\", IntegerType(), True),\n",
    "    StructField(\"total_day_minutes\", DoubleType(), True),\n",
    "    StructField(\"total_day_calls\", IntegerType(), True),\n",
    "    StructField(\"total_day_charge\", DoubleType(), True),\n",
    "    StructField(\"total_eve_minutes\", DoubleType(), True),\n",
    "    StructField(\"total_eve_calls\", IntegerType(), True),\n",
    "    StructField(\"total_eve_charge\", DoubleType(), True),\n",
    "    StructField(\"total_night_minutes\", DoubleType(), True),\n",
    "    StructField(\"total_night_calls\", IntegerType(), True),\n",
    "    StructField(\"total_night_charge\", DoubleType(), True),\n",
    "    StructField(\"total_intl_minutes\", DoubleType(), True),\n",
    "    StructField(\"total_intl_calls\", IntegerType(), True),\n",
    "    StructField(\"total_intl_charge\", DoubleType(), True),\n",
    "    StructField(\"number_customer_service_calls\", IntegerType(), True)\n",
    "])\n",
    "\n",
    "# Create a list of 5 unlabelled customers\n",
    "sample_customers_data = [\n",
    "    (128, 25, 265.1, 110, 45.07, 197.4, 99, 16.78, 244.7, 91, 11.01, 10.0, 3, 2.7, 1),\n",
    "    (107, 26, 161.6, 123, 27.47, 195.5, 103, 16.62, 254.4, 103, 11.45, 13.7, 3, 3.7, 1),\n",
    "    (137, 0, 243.4, 114, 41.38, 121.2, 110, 10.3, 162.6, 104, 7.32, 12.2, 5, 3.29, 0),\n",
    "    (84, 0, 299.4, 71, 50.9, 61.9, 88, 5.26, 196.9, 89, 8.86, 6.6, 7, 1.78, 2),\n",
    "    (75, 0, 166.7, 113, 28.34, 148.3, 122, 12.61, 186.9, 121, 8.41, 10.1, 3, 2.73, 3)\n",
    "]\n",
    "\n",
    "# Create a DataFrame from the sample data\n",
    "sample_customers_df = spark.createDataFrame(sample_customers_data, schema=schema)\n",
    "sample_customers_df.show()"
   ]
  },
  {
   "cell_type": "markdown",
   "id": "6854f86e",
   "metadata": {},
   "source": [
    "## Step 2: Assemble Features for the Sample Customers\n",
    "Prepare the `features` column required for the model."
   ]
  },
  {
   "cell_type": "code",
   "execution_count": null,
   "id": "2b56fbc6",
   "metadata": {},
   "outputs": [],
   "source": [
    "# Assemble features into a vector\n",
    "assembler = VectorAssembler(\n",
    "    inputCols=[\n",
    "        \"account_length\", \"number_vmail_messages\", \"total_day_minutes\",\n",
    "        \"total_day_calls\", \"total_day_charge\", \"total_eve_minutes\",\n",
    "        \"total_eve_calls\", \"total_eve_charge\", \"total_night_minutes\",\n",
    "        \"total_night_calls\", \"total_night_charge\", \"total_intl_minutes\",\n",
    "        \"total_intl_calls\", \"total_intl_charge\", \"number_customer_service_calls\"\n",
    "    ],\n",
    "    outputCol=\"features\"\n",
    ")\n",
    "sample_customers_df = assembler.transform(sample_customers_df)\n",
    "sample_customers_df.select(\"features\").show(truncate=False)"
   ]
  },
  {
   "cell_type": "markdown",
   "id": "7b6722f5",
   "metadata": {},
   "source": [
    "## Step 3: Load the Stored Model\n",
    "Load the trained Decision Tree model stored earlier."
   ]
  },
  {
   "cell_type": "code",
   "execution_count": null,
   "id": "bb8f6820",
   "metadata": {},
   "outputs": [],
   "source": [
    "from pyspark.ml.classification import DecisionTreeClassificationModel\n",
    "\n",
    "# Load the stored model\n",
    "model_path = \"./trained_model_decision_tree\"\n",
    "loaded_model = DecisionTreeClassificationModel.load(model_path)\n",
    "print(\"Model loaded successfully.\")"
   ]
  },
  {
   "cell_type": "markdown",
   "id": "7d8c29ed",
   "metadata": {},
   "source": [
    "## Step 4: Generate Predictions for the Sample Customers\n",
    "Use the loaded model to predict churn for the unlabelled customers."
   ]
  },
  {
   "cell_type": "code",
   "execution_count": null,
   "id": "45e1c248",
   "metadata": {},
   "outputs": [],
   "source": [
    "# Generate predictions\n",
    "predictions = loaded_model.transform(sample_customers_df)\n",
    "\n",
    "# Show the predictions\n",
    "predictions.select(\"features\", \"prediction\", \"probability\").show(truncate=False)"
   ]
  },
  {
   "cell_type": "markdown",
   "id": "e0a02000",
   "metadata": {},
   "source": [
    "## Step 5: Analyze Predictions\n",
    "Review the predictions to understand which customers are likely to churn."
   ]
  },
  {
   "cell_type": "code",
   "execution_count": null,
   "id": "a162a2ba",
   "metadata": {},
   "outputs": [],
   "source": [
    "# Analyze predictions\n",
    "for row in predictions.select(\"features\", \"prediction\", \"probability\").collect():\n",
    "    print(f\"Features: {row['features']}\")\n",
    "    print(f\"Predicted Label (Churn=1, No Churn=0): {row['prediction']}\")\n",
    "    print(f\"Probability: {row['probability']}\")\n",
    "    print(\"---\")"
   ]
  }
 ],
 "metadata": {
  "kernelspec": {
   "display_name": "Python 3 (ipykernel)",
   "language": "python",
   "name": "python3"
  },
  "language_info": {
   "codemirror_mode": {
    "name": "ipython",
    "version": 3
   },
   "file_extension": ".py",
   "mimetype": "text/x-python",
   "name": "python",
   "nbconvert_exporter": "python",
   "pygments_lexer": "ipython3",
   "version": "3.12.3"
  }
 },
 "nbformat": 4,
 "nbformat_minor": 5
}
