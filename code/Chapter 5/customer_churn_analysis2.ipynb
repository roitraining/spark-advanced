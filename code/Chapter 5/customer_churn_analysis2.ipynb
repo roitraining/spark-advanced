{
 "cells": [
  {
   "cell_type": "markdown",
   "id": "da4922fa",
   "metadata": {},
   "source": [
    "## Step 7: Plot the ROC Curve\n",
    "Generate the ROC curve and calculate the area under the curve (AUC)."
   ]
  },
  {
   "cell_type": "code",
   "execution_count": null,
   "id": "4701614d-b9a7-42c5-a246-f1e5482c5a55",
   "metadata": {},
   "outputs": [],
   "source": [
    "! pip install matplotlib"
   ]
  },
  {
   "cell_type": "code",
   "execution_count": null,
   "id": "4ebf3eac",
   "metadata": {},
   "outputs": [],
   "source": [
    "from pyspark.ml.evaluation import BinaryClassificationEvaluator\n",
    "import matplotlib.pyplot as plt\n",
    "\n",
    "# Evaluate the ROC curve and AUC\n",
    "evaluator = BinaryClassificationEvaluator(labelCol=\"label\", rawPredictionCol=\"probability\", metricName=\"areaUnderROC\")\n",
    "auc = evaluator.evaluate(predictions)\n",
    "print(f\"Area Under ROC: {auc:.2f}\")\n",
    "\n",
    "# Plotting the ROC Curve\n",
    "probabilities = predictions.select(\"label\", \"probability\").rdd.map(lambda row: (row[1][1], row[0])).collect()\n",
    "probabilities.sort(reverse=True, key=lambda x: x[0])\n",
    "\n",
    "true_positive_rate = []\n",
    "false_positive_rate = []\n",
    "positive = sum([1 for _, label in probabilities if label == 1.0])\n",
    "negative = sum([1 for _, label in probabilities if label == 0.0])\n",
    "tp, fp = 0, 0\n",
    "\n",
    "# Calculate the TPR and FPR\n",
    "for prob, label in probabilities:\n",
    "    if label == 1.0:\n",
    "        tp += 1\n",
    "    else:\n",
    "        fp += 1\n",
    "    true_positive_rate.append(tp / positive)\n",
    "    false_positive_rate.append(fp / negative)\n",
    "\n",
    "# Plot the curve\n",
    "plt.figure(figsize=(8, 6))\n",
    "plt.plot(false_positive_rate, true_positive_rate, label=f\"ROC Curve (AUC = {auc:.2f})\")\n",
    "plt.plot([0, 1], [0, 1], \"r--\")\n",
    "plt.xlabel(\"False Positive Rate\")\n",
    "plt.ylabel(\"True Positive Rate\")\n",
    "plt.title(\"ROC Curve\")\n",
    "plt.legend(loc=\"lower right\")\n",
    "plt.grid()\n",
    "plt.show()"
   ]
  },
  {
   "cell_type": "code",
   "execution_count": null,
   "id": "192a79fc-e591-4b4c-9f54-a99f424f62aa",
   "metadata": {},
   "outputs": [],
   "source": []
  }
 ],
 "metadata": {
  "kernelspec": {
   "display_name": "Python 3 (ipykernel)",
   "language": "python",
   "name": "python3"
  },
  "language_info": {
   "codemirror_mode": {
    "name": "ipython",
    "version": 3
   },
   "file_extension": ".py",
   "mimetype": "text/x-python",
   "name": "python",
   "nbconvert_exporter": "python",
   "pygments_lexer": "ipython3",
   "version": "3.12.3"
  }
 },
 "nbformat": 4,
 "nbformat_minor": 5
}
