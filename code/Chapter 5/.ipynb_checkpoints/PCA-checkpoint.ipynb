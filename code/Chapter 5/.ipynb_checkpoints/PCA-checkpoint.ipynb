{
 "cells": [
  {
   "cell_type": "markdown",
   "id": "e5f5b5bb",
   "metadata": {},
   "source": [
    "# PySpark PCA Example\n",
    "\n",
    "This notebook demonstrates how to use Principal Component Analysis (PCA) in PySpark to reduce the dimensionality of a dataset."
   ]
  },
  {
   "cell_type": "markdown",
   "id": "24cf3a72",
   "metadata": {},
   "source": [
    "## Step 1: Set Up Spark Session\n",
    "We first create a Spark session to work with PySpark."
   ]
  },
  {
   "cell_type": "code",
   "execution_count": null,
   "id": "626ec2a3",
   "metadata": {},
   "outputs": [],
   "source": [
    "from pyspark.sql import SparkSession\n",
    "\n",
    "# Create Spark session\n",
    "spark = SparkSession.builder \\\n",
    "    .appName(\"PCA Example\") \\\n",
    "    .getOrCreate()"
   ]
  },
  {
   "cell_type": "markdown",
   "id": "7e773a9b",
   "metadata": {},
   "source": [
    "## Step 2: Load and Prepare Data\n",
    "Create a simple dataset containing numerical features for applying PCA."
   ]
  },
  {
   "cell_type": "code",
   "execution_count": null,
   "id": "2ee9d3bf",
   "metadata": {},
   "outputs": [],
   "source": [
    "from pyspark.sql import Row\n",
    "\n",
    "# Create a sample dataset\n",
    "data = [\n",
    "    Row(feature1=1.0, feature2=2.0, feature3=3.0),\n",
    "    Row(feature1=4.0, feature2=5.0, feature3=6.0),\n",
    "    Row(feature1=7.0, feature2=8.0, feature3=9.0),\n",
    "    Row(feature1=10.0, feature2=11.0, feature3=12.0)\n",
    "]\n",
    "\n",
    "# Convert the list to a DataFrame\n",
    "df = spark.createDataFrame(data)\n",
    "df.show()"
   ]
  },
  {
   "cell_type": "markdown",
   "id": "a15bc6f2",
   "metadata": {},
   "source": [
    "## Step 3: Assemble Features\n",
    "Combine the features into a single vector column using `VectorAssembler`."
   ]
  },
  {
   "cell_type": "code",
   "execution_count": null,
   "id": "17f4335b",
   "metadata": {},
   "outputs": [],
   "source": [
    "from pyspark.ml.feature import VectorAssembler\n",
    "\n",
    "# Assemble features into a single vector column\n",
    "assembler = VectorAssembler(inputCols=[\"feature1\", \"feature2\", \"feature3\"], outputCol=\"features\")\n",
    "dataset = assembler.transform(df)\n",
    "dataset.show()"
   ]
  },
  {
   "cell_type": "markdown",
   "id": "c4f69777",
   "metadata": {},
   "source": [
    "## Step 4: Apply PCA\n",
    "Reduce the dimensionality of the dataset to 2 principal components."
   ]
  },
  {
   "cell_type": "code",
   "execution_count": null,
   "id": "7910a368",
   "metadata": {},
   "outputs": [],
   "source": [
    "from pyspark.ml.feature import PCA\n",
    "\n",
    "# Apply PCA\n",
    "pca = PCA(k=2, inputCol=\"features\", outputCol=\"pcaFeatures\")\n",
    "model = pca.fit(dataset)\n",
    "\n",
    "# Transform the dataset\n",
    "result = model.transform(dataset)\n",
    "result.select(\"features\", \"pcaFeatures\").show()"
   ]
  },
  {
   "cell_type": "markdown",
   "id": "5967d611",
   "metadata": {},
   "source": [
    "## Step 5: Inspect PCA Results\n",
    "We extract and display the principal components."
   ]
  },
  {
   "cell_type": "code",
   "execution_count": null,
   "id": "e2417c67",
   "metadata": {},
   "outputs": [],
   "source": [
    "# Print the principal components\n",
    "print(\"Principal Components:\")\n",
    "print(model.pc.toArray())"
   ]
  },
  {
   "cell_type": "markdown",
   "id": "bb200e59",
   "metadata": {},
   "source": [
    "## Step 6: Stop the Spark Session\n",
    "Release resources by stopping the Spark session."
   ]
  },
  {
   "cell_type": "code",
   "execution_count": null,
   "id": "d352078e",
   "metadata": {},
   "outputs": [],
   "source": [
    "# Stop the Spark session\n",
    "spark.stop()"
   ]
  },
  {
   "cell_type": "code",
   "execution_count": null,
   "id": "0a901f27-bc25-4e7e-8b1b-d23033180b95",
   "metadata": {},
   "outputs": [],
   "source": []
  }
 ],
 "metadata": {
  "kernelspec": {
   "display_name": "Python 3 (ipykernel)",
   "language": "python",
   "name": "python3"
  },
  "language_info": {
   "codemirror_mode": {
    "name": "ipython",
    "version": 3
   },
   "file_extension": ".py",
   "mimetype": "text/x-python",
   "name": "python",
   "nbconvert_exporter": "python",
   "pygments_lexer": "ipython3",
   "version": "3.12.3"
  }
 },
 "nbformat": 4,
 "nbformat_minor": 5
}
